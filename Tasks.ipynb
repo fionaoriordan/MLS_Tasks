{
 "cells": [
  {
   "cell_type": "markdown",
   "metadata": {},
   "source": [
    "## Machine Learning and Statistics Module 52954\n",
    "## Tasks\n",
    "### Lecturer: Ian McLaughlin\n",
    "### Student : Fiona O'Riordan\n",
    "***"
   ]
  },
  {
   "cell_type": "markdown",
   "metadata": {},
   "source": [
    "## Task 1\n",
    "***"
   ]
  },
  {
   "cell_type": "markdown",
   "metadata": {},
   "source": [
    "## Objective: \n",
    "\n",
    "October 5th, 2020: Write a Python function called sqrt2 that calculates and prints to the screen the square root of 2 to 100 decimal places. Your code should not depend on any module from the standard library1 or otherwise. You should research the task first and include references and a description of your algorithm."
   ]
  },
  {
   "cell_type": "markdown",
   "metadata": {},
   "source": [
    "## Background"
   ]
  },
  {
   "cell_type": "markdown",
   "metadata": {},
   "source": [
    "### Methods for calculating square roots are approximations.\n",
    "\n",
    "Methods for calculating square roots seek to identify the non negative square root of a number (commonly denoted as √S, 2√S, or S1/2 ) of a real number [1]. Real numbers are any positive or negative number including all integers (whole positive or negative numbers or 0), rational(can be expressed as a fraction) and irrational numbers (can be expressed as an infinite decimal representation e.g. 3.1415926535....).  Real numbers which include decimal points are called floating point numbers, since the decimal \"floats\" between the digits [2].  Irrational numbers with infinite decimal representation are generally estimated by computers [2]. For most numbers their square root is an irrational number [1] Moreover, even in the case of computing the square root of a perfect square integer where a square root with an exact finite represenation exists, only a series of increasingly accurate approximations are returned. [1].\n"
   ]
  },
  {
   "cell_type": "markdown",
   "metadata": {},
   "source": [
    "### Newtons Method.\n",
    "\n",
    "Typically analytical methods to calcuate square roots tend to be iterative and have two steps. Firstly an initial guess $s$ of the square root is provided. This number can be any number as long as it is less that the number $x$ where √X is the number sought. Secondly, each iteration produces a better guess or is closer in refinement to the √X until a required accuracy is met or when a maximum number of iteratiions (predefined) have been reached for slowly converging algorithms. The closer this initial guess is to the √S then the less iterations will performed[1],[4].  \n",
    "\n",
    "Newton's method is one such approach and will be used for this task as it the most widely used approach and the most suitable to computational [1],[4]. Newtowns method can be implemented to calculate the square root $s$ of a number $x$, where $x \\gt 0$ and $s = \\sqrt x $. Starting with an initial guess for the square root, $s_0$, the algorithm calculates a better guess using the formula\n",
    "$$ s_{n+1} = s_n - \\left ( \\frac{s_n^2 - x}{2 s_n} \\right ). $$\n",
    "$s_{n}$ is the previous estimate for the square root and $s_{n+1}$ is the revised/updated appromiation.\n",
    "\n",
    "Therefore, We can calculate the square root of a number using Newton's method [3, 4]. To find the square root $s$ of a number $x$, we can iterate using the following equation.\n",
    "$$ s_{n+1} = s - \\frac{s^2 - x}{2s} $$\n",
    "\n",
    " "
   ]
  },
  {
   "cell_type": "markdown",
   "metadata": {},
   "source": [
    "## Implement the function.\n"
   ]
  },
  {
   "cell_type": "code",
   "execution_count": 1,
   "metadata": {},
   "outputs": [],
   "source": [
    "\"\"\"\n",
    "A function to calculate the square root of a number.\n",
    "\"\"\"\n",
    "def sqrt(x):\n",
    "   \n",
    "    # define precision as number of decimal places to be used.\n",
    "    precision = 10**-10;\n",
    "    # Set the initial guess for the square root of s.\n",
    "    s = x // 2\n",
    "    # iteration number\n",
    "    i = 1\n",
    "    # Loop while the absolute difference between x and (s^2) is greater than the precision /accuracy required.\n",
    "    while abs(x - (s **2)) > precision:\n",
    "        # Calculate the next better guess for the square root.\n",
    "        # first lets calculate the difference between current guess and next guess so that we can view.\n",
    "        diff = (s*s - x) / (2 * s)\n",
    "        s -= diff\n",
    "        print(\"Loop:\",i, \"approximation\",s, \"difference from pervious value\", diff)\n",
    "        i += 1\n",
    "    # Return the square root of x (approximation).\n",
    "    return s\n"
   ]
  },
  {
   "cell_type": "markdown",
   "metadata": {},
   "source": [
    "### Test the function\n"
   ]
  },
  {
   "cell_type": "code",
   "execution_count": 2,
   "metadata": {},
   "outputs": [
    {
     "name": "stdout",
     "output_type": "stream",
     "text": [
      "Loop: 1 approximation 1.5 difference from pervious value -0.5\n",
      "Loop: 2 approximation 1.4166666666666667 difference from pervious value 0.08333333333333333\n",
      "Loop: 3 approximation 1.4142156862745099 difference from pervious value 0.002450980392156932\n",
      "Loop: 4 approximation 1.4142135623746899 difference from pervious value 2.123899819940621e-06\n",
      "Square root of 2:  1.4142135623746899\n",
      "Number of decimal returned using Newton's square number is 17\n"
     ]
    }
   ],
   "source": [
    "myans = sqrt(2)\n",
    "print(\"Square root of 2: \", myans)\n",
    "num1 = sum(c.isdigit() for c in (str(myans)))\n",
    "print(\"Number of decimal returned using Newton's square number is\", sum(c.isdigit() for c in (str(myans))))"
   ]
  },
  {
   "cell_type": "markdown",
   "metadata": {},
   "source": [
    "### Evalute the result"
   ]
  },
  {
   "cell_type": "markdown",
   "metadata": {},
   "source": [
    "The functiona sqrt(2) only returns a value with only 17 significant digits displayed. As the Python documentation [6] explains and as we explored the earlier section above 'Methods for calculating square roots are approximations' computer languages use an approximation of certain numbers. In the case of Python that approximatiion is displayed to 17 significant decimal places [6].\n",
    "\n",
    "According to Python documentation [6], floating point numbers are represented in base 2 (binary) fractions. Therefore for example 0.125 is represented as follows in decimal (base 10): \n",
    "0.125 = 1/10 + 2/100 + 5/1000\n",
    "Similary the binary fraction 0.001 is represented as : \n",
    "0.001 = 0/2 + 0/4 + 1/8.\n",
    "\n",
    "But mostly decimal fractions cannot be exactly expressed as a binary fraction. Therefore decimal floating-point numbers are **approximated** by the binary floating-point numbers actually stored by the computer[6]. \n",
    "\n",
    "Python documentation gives the example of 1/10 and explains how the decimal value 0.1 can never be represented exactly as a base 2 fraction regardless of the base 2 digits you use. The value 1/10 in base 2 is an infinitely repeating fraction: \n",
    "0.0001100110011001100110011001100110011001100110011...\n",
    "\n",
    "While 1/10 will by default be displayed as 0.1, the actual stored value of 1/10 is the nearest representable binary fraction of that fraction.  If we format 0.1 to 100 places we see that number of signficant places calculated to in the approximation is 55."
   ]
  },
  {
   "cell_type": "code",
   "execution_count": 3,
   "metadata": {},
   "outputs": [
    {
     "name": "stdout",
     "output_type": "stream",
     "text": [
      "0.1\n"
     ]
    },
    {
     "data": {
      "text/plain": [
       "55"
      ]
     },
     "execution_count": 3,
     "metadata": {},
     "output_type": "execute_result"
    }
   ],
   "source": [
    "print(0.1) \n",
    "# print 0.1 and format to 100 decimal places\n",
    "len(format((0.1), \".100f\"))\n",
    "mystring = \"1000000000000000055511151231257827021181583404541015625\"\n",
    "len(mystring)"
   ]
  },
  {
   "cell_type": "markdown",
   "metadata": {},
   "source": [
    "Python documentation [6] explains that floats are typically approximated using a binary fraction with the numerator using the first 53 bits starting with the most significant bit and with the denominator as a power of two. The binary fraction is 3602879701896397 / 2 ** 55"
   ]
  },
  {
   "cell_type": "code",
   "execution_count": 4,
   "metadata": {},
   "outputs": [
    {
     "data": {
      "text/plain": [
       "0.1"
      ]
     },
     "execution_count": 4,
     "metadata": {},
     "output_type": "execute_result"
    }
   ],
   "source": [
    "3602879701896397 / 2 ** 55"
   ]
  },
  {
   "cell_type": "markdown",
   "metadata": {},
   "source": [
    "So with this insight in mind, lets try to see if we can view the square root to 2 to 100 places. "
   ]
  },
  {
   "cell_type": "code",
   "execution_count": 5,
   "metadata": {},
   "outputs": [
    {
     "name": "stdout",
     "output_type": "stream",
     "text": [
      "1.4142135623746898698271934335934929549694061279296875000000000000000000000000000000000000000000000000\n"
     ]
    }
   ],
   "source": [
    "# Print the result to 100 signification places.\n",
    "print(format(myans, '.100f'))\n",
    " "
   ]
  },
  {
   "cell_type": "code",
   "execution_count": 6,
   "metadata": {},
   "outputs": [
    {
     "name": "stdout",
     "output_type": "stream",
     "text": [
      "Number of significant digits in my answer: 53\n"
     ]
    }
   ],
   "source": [
    "import re\n",
    "num2 = len(re.sub(\"[^1-9]\", \"\", (format(myans, '.100f'))))\n",
    "#adding back in the one zero I shouldnt have removed but did for convenience.\n",
    "print(\"Number of significant digits in my answer:\", num2+1)"
   ]
  },
  {
   "cell_type": "markdown",
   "metadata": {},
   "source": [
    "We see that 53 significant digits now as expected but this does not solve our question we were asked.\n"
   ]
  },
  {
   "cell_type": "markdown",
   "metadata": {},
   "source": [
    "## Modify the approach."
   ]
  },
  {
   "cell_type": "markdown",
   "metadata": {},
   "source": [
    "\n",
    "However, if we use the python library 'decimal' and use its function 'sqrt' to calculate the square root of 2 with precision set to 100 we can see that python can be used to calculate the square root of 2 to 100 places. Therefore, it is possible to write a Python function called sqrt2 that calculates and prints to the screen the square root of 2 to 100 decimal places. \n"
   ]
  },
  {
   "cell_type": "code",
   "execution_count": 7,
   "metadata": {},
   "outputs": [
    {
     "name": "stdout",
     "output_type": "stream",
     "text": [
      "1.4142135623730950488016887242096980785696718753769480731766797379907324784621070388503875343276415727\n",
      "<class 'decimal.Decimal'>\n",
      "Number of signficant digits is  101\n"
     ]
    }
   ],
   "source": [
    "# https://docs.python.org/2/library/decimal.html [7]\n",
    "from decimal import *\n",
    "# set precision equal to 101 as precision refers to significant number of digits and not decimal places.\n",
    "getcontext().prec = 101 \n",
    "sqrt2byDecimal = Decimal(2).sqrt()\n",
    "print(sqrt2byDecimal)\n",
    "a = sqrt2byDecimal\n",
    "print(type(a))\n",
    "\n",
    "# https://stackoverflow.com/questions/24878174/how-to-count-digits-letters-spaces-for-a-string-in-python [8]\n",
    "import re\n",
    "numofdigits = len(re.sub(\"[^0-9]\", \"\", str(sqrt2byDecimal)))\n",
    "print(\"Number of signficant digits is \", numofdigits)\n"
   ]
  },
  {
   "cell_type": "markdown",
   "metadata": {},
   "source": [
    "So the square root of 2 with 100 decimal places can be achieved using python. Stackoverflow [10] suggests just \"multiply your number by 10**200 and use Newton's method to get the integer square root. Then insert a decimal point in the right place\". In otherwords, this would return a number which is 100 decimal places from the square root of 2 and could be printed using the string format. "
   ]
  },
  {
   "cell_type": "code",
   "execution_count": 8,
   "metadata": {},
   "outputs": [
    {
     "data": {
      "text/plain": [
       "'1.4142135623730950488016887242096980785696718753769480731766797379907324784621070388503875343276415727'"
      ]
     },
     "execution_count": 8,
     "metadata": {},
     "output_type": "execute_result"
    }
   ],
   "source": [
    "\n",
    "\"\"\"\n",
    "A function to calculate the square root of 2.\n",
    "\"\"\"\n",
    "def sqrt2():\n",
    "    x = 2*10**200\n",
    "    # define precision as number of decimal places to be used.\n",
    "    # precision = 10**-10;  No precision now as difference will be zero.\n",
    "    # Set the initial guess for the square root of s.\n",
    "    s = x // 2\n",
    "    # iteration number\n",
    "    i = 1\n",
    "    # Loop while the absolute difference between x and (s^2) is greater than the precision /accuracy required.\n",
    "    while (x - (s **2)) <0:\n",
    "        # Calculate the next better guess for the square root.\n",
    "        # first lets calculate the difference between current guess and next guess so that we can view.\n",
    "\n",
    "#         s = s- (s*s - x) / (2 * s)\n",
    "        #simplify in order to avoid overflow error.       \n",
    "        s = (s+x//s)//2\n",
    "    # Return the square root of 2 * 10**200\n",
    "    s = (str(s))\n",
    "    return(s[0] + \".\" + s[1:])\n",
    "    \n",
    "sqrt2()\n"
   ]
  },
  {
   "cell_type": "markdown",
   "metadata": {},
   "source": [
    "This Python function called sqrt2 calculates and prints to the screen the square root of 2 to 100 decimal places.  Finally I am going to benchmark the result.\n",
    "\n",
    "\n"
   ]
  },
  {
   "cell_type": "markdown",
   "metadata": {},
   "source": [
    "\n",
    "## Benchmark the Result\n"
   ]
  },
  {
   "cell_type": "markdown",
   "metadata": {},
   "source": [
    "Compare to Nassa [9]: "
   ]
  },
  {
   "cell_type": "code",
   "execution_count": 9,
   "metadata": {},
   "outputs": [
    {
     "name": "stdout",
     "output_type": "stream",
     "text": [
      "number of significant digits 101\n"
     ]
    }
   ],
   "source": [
    "# https://apod.nasa.gov/htmltest/gifcity/sqrt2.1mil [10]\n",
    "sqrt2byNasa = \"1.4142135623730950488016887242096980785696718753769480731766797379907324784621070388503875343276415727\"\n",
    "# check I have 100 decimal places places/ 101 significant places.\n",
    "import re\n",
    "# verify 100 decimal places\n",
    "print(\"number of significant digits\",len(str(sqrt2byNasa)[1:]))\n",
    "\n"
   ]
  },
  {
   "cell_type": "code",
   "execution_count": 10,
   "metadata": {},
   "outputs": [
    {
     "name": "stdout",
     "output_type": "stream",
     "text": [
      "Square root of 2 to 100 decimal places is equal to Nasa's number with 100 decimal places displayed.\n"
     ]
    }
   ],
   "source": [
    "taskanswer = sqrt2()\n",
    "if (str(sqrt2byNasa) == taskanswer):\n",
    "    print(\"Square root of 2 to 100 decimal places is equal to Nasa's number with 100 decimal places displayed.\")"
   ]
  },
  {
   "cell_type": "markdown",
   "metadata": {},
   "source": [
    "## Conclusion"
   ]
  },
  {
   "cell_type": "code",
   "execution_count": 12,
   "metadata": {},
   "outputs": [
    {
     "ename": "SyntaxError",
     "evalue": "invalid syntax (<ipython-input-12-c5b4249e0970>, line 1)",
     "output_type": "error",
     "traceback": [
      "\u001b[0;36m  File \u001b[0;32m\"<ipython-input-12-c5b4249e0970>\"\u001b[0;36m, line \u001b[0;32m1\u001b[0m\n\u001b[0;31m    Conclusion here... to do .\u001b[0m\n\u001b[0m               ^\u001b[0m\n\u001b[0;31mSyntaxError\u001b[0m\u001b[0;31m:\u001b[0m invalid syntax\n"
     ]
    }
   ],
   "source": [
    "Conclusion here... to do . "
   ]
  },
  {
   "cell_type": "markdown",
   "metadata": {},
   "source": [
    "### References: \n",
    "[1] Methods of computing square roots; Wikipedia;https://en.wikipedia.org/wiki/Methods_of_computing_square_roots  \n",
    "\n",
    "[2] Real Number Definition; Techterms https://techterms.com/definition/realnumber  \n",
    "\n",
    "[3] A Tour of Go; Exercise: Loops and Functions; https://tour.golang.org/flowcontrol/8  \n",
    "\n",
    "[4] Newton's method; https://en.wikipedia.org/wiki/Newton%27s_method  \n",
    "\n",
    "[5] Geeks For Geeks; Find root of a number using Newton’s method; https://www.geeksforgeeks.org/find-root-of-a-number-using-newtons-method/  \n",
    "[6] Python Software Foundation, \"Floating Point Arithmetic: Issues and Limitations\", https://docs.python.org/3/tutorial/floatingpoint.html\n",
    "[7]decimal — Decimal fixed point and floating point arithmetic;Documentation » The Python Standard Library » Numeric and Mathematical Modules; Python.org »https://docs.python.org/3/library/decimal.html   \n",
    "[8] How to count digits, letters, spaces for a string in Python? Óscar López Reply; Stackoverflow; https://stackoverflow.com/a/24878232  \n",
    "[9] https://apod.nasa.gov/htmltest/gifcity/sqrt2.1mil  \n",
    "[10] How to get the square root of a number to 100 decimal places without using any libaries or modules [; Stack Overflow;https://stackoverflow.com/questions/64295245/how-to-get-the-square-root-of-a-number-to-100-decimal-places-without-using-any-l\n",
    "\n"
   ]
  },
  {
   "cell_type": "markdown",
   "metadata": {},
   "source": [
    "---"
   ]
  },
  {
   "cell_type": "markdown",
   "metadata": {},
   "source": [
    "# Task 2"
   ]
  },
  {
   "cell_type": "markdown",
   "metadata": {},
   "source": [
    "## Objective"
   ]
  },
  {
   "cell_type": "markdown",
   "metadata": {},
   "source": [
    "November 2nd, 2020: The Chi-squared test for independence is a statistical hypothesis test like a t-test. It is used to analyse whether two categorical variables are independent. The Wikipedia article gives the table below as an example [4], stating the Chi-squared value based on it is approximately 24.6. Use scipy.stats to verify this value and calculate the associated p value. You should include a short note with references justifying your analysis in a markdown cell.\n",
    "\n",
    "|              | A   | B   | C   | D   | Total |\n",
    "|--------------|-----|-----|-----|-----|-------|\n",
    "| White Collar | 90  | 60  | 104 | 95  | 349   |\n",
    "| Blue Collar  | 30  | 50  | 51  | 20  | 151   |\n",
    "| No Collar    | 30  | 40  | 45  | 35  | 150   |\n",
    "| Total        | 150 | 150 | 200 | 150 | 650   |"
   ]
  },
  {
   "cell_type": "markdown",
   "metadata": {},
   "source": [
    "## Background"
   ]
  },
  {
   "cell_type": "markdown",
   "metadata": {},
   "source": [
    "###  The Chi Squared Test"
   ]
  },
  {
   "cell_type": "markdown",
   "metadata": {},
   "source": [
    "\n",
    "The Chiq Squared test of independence tests for dependence between categorical variables.  The test is an omnibus test and therefore it tests \"whether the explained variance in a set of data is significantly greater than the unexplained variance, overall\".  In other words, the chi squared test test  whether distributions of categorical variables differ from each another.\n",
    "\n",
    "The Chiq Squared test uses a cross tabulated table (as exemplifed in [4].) and analyses the independence between variables rows and columns.  \n",
    "\n",
    "\n",
    "In theory, if the observed and expected were equal then chi-square would be zero but this is unlikeyly to happen in he real world. Determining whether a Chi Squared test statisic is sufficently large enough to state that a significant statistical difference is indicated is not that straightforward[3].\n"
   ]
  },
  {
   "cell_type": "markdown",
   "metadata": {},
   "source": [
    "### Wikipedia example to be calculated "
   ]
  },
  {
   "cell_type": "markdown",
   "metadata": {},
   "source": [
    "Suppose there is a city of 1,000,000 residents with four neighborhoods: A, B, C, and D. A random sample of 650 residents of the city is taken and their occupation is recorded as \"white collar\", \"blue collar\", or \"no collar\". The null hypothesis is that each person's neighborhood of residence is independent of the person's occupational classification [1]. \n",
    "\n",
    "To estimate what proportion of the whole 1,000,000 live in neighborhood A, the sample number of 150 is used and similarly 349/650 is used to estimate the proportion of 1,000,0000 that are white collar workers [1]. \n",
    "\n",
    "As Wikipedia [1] explains, assuming independence under the hypothesis the  number of white-collar workers in neighborhood A to be: \n",
    "\\begin{equation*} \n",
    "150 \\times\\frac{349}{650} \\approx 80.54\n",
    "\\end{equation*}\n",
    "\n",
    "Then in that \"cell\" of the table, we have\n",
    "\n",
    "\\begin{equation*}\n",
    "\\frac{(observed - expected)^2}{expected} =  \n",
    "\\frac{(90 - 80.54)^2}{80.54}\n",
    "\\approx 1.11\n",
    "\\end{equation*}\n",
    "\n",
    "The sum of these quantities over all of the cells is the test statistic:\n",
    "≈ 24.6 [1]\n",
    "Under the null hypothesis, this sum has approximately a chi-squared distribution whose number of degrees of freedom:  \n",
    " =(rows -1) * (colums -1)  \n",
    " = (3-1) * (4-1)  \n",
    " = 2*3  \n",
    " = 6\n",
    " \n",
    "\n",
    "\n",
    " \n"
   ]
  },
  {
   "cell_type": "markdown",
   "metadata": {},
   "source": [
    "#### Null Hypothesis (H0):"
   ]
  },
  {
   "cell_type": "markdown",
   "metadata": {},
   "source": [
    "The null hypothesis is that each person's neighborhood of residence is independent of the person's occupational classification."
   ]
  },
  {
   "cell_type": "markdown",
   "metadata": {},
   "source": [
    "#### Alertnative Hypothesis H1):"
   ]
  },
  {
   "cell_type": "markdown",
   "metadata": {},
   "source": [
    "The alternative hypothese is therefore a that person's neighborhood of residence is dependent on the person's occupational classification."
   ]
  },
  {
   "cell_type": "markdown",
   "metadata": {},
   "source": [
    "## VERIFY USING SCIPY.STATS"
   ]
  },
  {
   "cell_type": "markdown",
   "metadata": {},
   "source": [
    "### Apply scipy.stats import chi2_contingency to the data"
   ]
  },
  {
   "cell_type": "code",
   "execution_count": null,
   "metadata": {},
   "outputs": [],
   "source": [
    "# create a crosstab with each row of data.\n",
    "crosstab = [[90, 60, 104, 95], [30,  50,  51, 20], [30,40,45,35]]\n"
   ]
  },
  {
   "cell_type": "code",
   "execution_count": null,
   "metadata": {},
   "outputs": [],
   "source": [
    "# import the package scipy.stats chi2_contingency\n",
    "from scipy.stats import chi2_contingency\n"
   ]
  },
  {
   "cell_type": "code",
   "execution_count": null,
   "metadata": {},
   "outputs": [],
   "source": [
    "# perform the tests with outputs chisquare, p and dof\n",
    "teststat, p, dof, expected = chi2_contingency(crosstab)"
   ]
  },
  {
   "cell_type": "markdown",
   "metadata": {},
   "source": [
    "### Compare results\n"
   ]
  },
  {
   "cell_type": "markdown",
   "metadata": {},
   "source": [
    "#### Compare 'cell': white-collar workers in neighbourhood A test statistic."
   ]
  },
  {
   "cell_type": "code",
   "execution_count": null,
   "metadata": {},
   "outputs": [],
   "source": [
    "\n",
    "print(\"As Wikipedia shows and scipy.stats concurs, assuming independence under the hypothesis the number of expected white-collar workers in neighborhood in the sample should be  :\", expected[0][0],  \n",
    "     \"but the observed number is in the sample table is \", crosstab[0][0])\n",
    "cell00stat = ((crosstab[0][0]- expected[0][0])**2)/expected[0][0]\n",
    "print('As wikipedia shows and as we can deduce from scipy stats expected calculation the test statistic for this cell would be:%.2f'% (cell00stat))"
   ]
  },
  {
   "cell_type": "markdown",
   "metadata": {},
   "source": [
    "#### Compare Chiq Square (sum of each test stat for each cell) result from Wikipedia with scipy.stats"
   ]
  },
  {
   "cell_type": "code",
   "execution_count": null,
   "metadata": {},
   "outputs": [],
   "source": [
    "# chiq square test statistic.\n",
    "print(f'Chi Squared Test Statistic from scipy.stats is %.1f (rounded to one decimal place)'%(teststat))\n",
    "print('which is the same result from Wikipedia')\n",
    "# print the p value.\n",
    "print('The p value = %.10f'% (p))\n",
    "# print the Degrees of Freedom\n",
    "print('The degrees of freedom value = %d'% (dof))"
   ]
  },
  {
   "cell_type": "code",
   "execution_count": null,
   "metadata": {},
   "outputs": [],
   "source": [
    "# assume a alpha/critical value\n",
    "alpha = 0.05\n",
    "print('With p value of p=%.10f and alpha set to alpha=%.10f'% (p, alpha))\n",
    "if p <= alpha:\n",
    "    print(\"Reject the null hypothesis (H0)\")\n",
    "else:\n",
    "    print('Results Do not reject (H0)')"
   ]
  },
  {
   "cell_type": "markdown",
   "metadata": {},
   "source": [
    "### Evalute the result"
   ]
  },
  {
   "cell_type": "markdown",
   "metadata": {},
   "source": [
    "The p value is 0.0004098425861096696 and is lower than alpha = 0.05 (an alpha value I have assumed to use here). There is a low probability that a persons neighbourhood is independent of the person's occupation. The Chi Squared test statistic is 24.6 approximately, an improbably large statistic according to the chi-squared distribution.   Therefore reject null hypothesis that each person's neighborhood of residence is independent of the person's occupational classification. \n",
    "\n",
    "\n",
    "DOF neeed to include.. "
   ]
  },
  {
   "cell_type": "markdown",
   "metadata": {},
   "source": [
    "### References"
   ]
  },
  {
   "cell_type": "markdown",
   "metadata": {},
   "source": [
    "[1] Wikipedia contributors, “Chi-squared test — Wikipedia, the free encyclopedia,” 2020, [Online; accessed 1-November-2020]. [Online]. Available: https://en.wikipedia.org/w/index.php?title=Chi-squaredtest&oldid=983024096  \n",
    "[2] scipy.stats.chi2_contingency; Scipy Docs https://docs.scipy.org/doc/scipy/reference/generated/scipy.stats.chi2_contingency.html  \n",
    "[3] Chi-Square Statistic: How to Calculate It / Distribution;Statistics How to; https://www.statisticshowto.com/probability-and-statistics/chi-square/\n"
   ]
  },
  {
   "cell_type": "markdown",
   "metadata": {},
   "source": [
    "---"
   ]
  },
  {
   "cell_type": "markdown",
   "metadata": {},
   "source": [
    "# Task 3"
   ]
  },
  {
   "cell_type": "markdown",
   "metadata": {},
   "source": [
    "## Objective"
   ]
  },
  {
   "cell_type": "markdown",
   "metadata": {},
   "source": [
    "November 16th, 2020: The standard deviation of an array of numbers x is\n",
    "calculated using numpy as np.sqrt(np.sum((x - np.mean(x))**2)/len(x)) .\n",
    "However, Microsoft Excel has two different versions of the standard deviation\n",
    "calculation, STDEV.P and STDEV.S . The STDEV.P function performs the above\n",
    "calculation but in the STDEV.S calculation the division is by len(x)-1 rather\n",
    "than len(x) . Research these Excel functions, writing a note in a Markdown cell\n",
    "about the difference between them. Then use numpy to perform a simulation\n",
    "demonstrating that the STDEV.S calculation is a better estimate for the standard\n",
    "deviation of a population when performed on a sample. Note that part of this task\n",
    "is to figure out the terminology in the previous sentence."
   ]
  },
  {
   "cell_type": "markdown",
   "metadata": {},
   "source": [
    "## Background"
   ]
  },
  {
   "cell_type": "markdown",
   "metadata": {},
   "source": [
    "### Standard Deviation"
   ]
  },
  {
   "cell_type": "markdown",
   "metadata": {},
   "source": [
    "According to Wikipedia [1], Standard Deviation is \"a measure of the amount of variation or dispersion of a set of values\" or how spread out a set of data is.  A value set with a low standard deviation has values which tend to be close to the mean of the value set. In otherwords, the data is closely clustered around the mean[1].  In contrast a value set with a high standard deviation has values which tend to be further away from the mean of the value set [1]. The data is dispersed over a wider range of values.  Standard deviation is applied when the distribution of data is normal approximately resembling a bell curve[1]. \n",
    "\n",
    "Standard Deviation is used to understand if a specific value in a dataset is standard and thereby expected or if the value is unusual and therefore unexpected [1].  Standard devation is represented by the lower case greek symbol sigma $\\sigma$.  A value's distance from the mean can be measured in terms of the number of standard deviations it is above or below the mean. A value which is beyond a specified number of Standard Deviations from the mean is said to be unusual or unexpected. This can used when determining if a result is \"statisically significant\" or alternatively part of \"expected variance\" [1].\n",
    "\n",
    "\"The standard deviation of a random variable, statistical population, data set, or probability distribution is the square root of its variance\" [1].  The variance is the average of the squared differences of the values of the set from the value set mean [1]. As the Task desciption says the standard deviation of an array x can be calucated in numpy as np.sqrt(np.sum((x - np.mean(x))**2)/len(x)).\n",
    "\n",
    "The role of population and its role in the forumula itself will be expanded later. The 68-95-99.7 rule states that in a an approximately normal distribution about 68% of the data in data set will falls within one standard deviation of the mean, about 95% of the data will fall within 2 standard deviations of the mean and approximately 99.7% of the data will fall within 99.7% of the data [1].\n",
    "\n",
    "Microsoft STDEV.P and Microsoft STDEV.S both caluculate standard deviation and these excel functions will now be explored.\n",
    " \n"
   ]
  },
  {
   "cell_type": "markdown",
   "metadata": {},
   "source": [
    "## Microsoft STDEV.P versus Microsoft STDEV.S"
   ]
  },
  {
   "cell_type": "markdown",
   "metadata": {},
   "source": [
    "The STDEV.P excel function estimates the standard deviation \"based on an entire population\"[3]. STDEV.P assumes the dataset represents the entire data set. The calculation used for standard deviation by STDEV.P is :\n",
    "$${\\sigma} = \\sqrt{\\frac{\\sum(x - \\mu)^2}{N}}$$\n",
    "\n",
    "where \n",
    "∑sum means \"sum of\", \n",
    "x is a value in the data set, \n",
    "μ is the mean of the data set, and \n",
    "N is the number of data points in the population.\n",
    "\n",
    "In contrast, the STDEV.S excel function \"estimates standard deviation based on a sample\"of the population[4]. The function assumes the dataset is a sample of the population and does not represent the entire population. 'The standard deviation is calculated using the \"n-1\" method [4].' The calulation used for STDEV.S is: \n",
    "$$ = \\sqrt{\\frac{\\sum(x - \\bar{x})^2}{n - 1}}$$\n",
    "\n",
    "\n",
    "As we can see since the data is a sample from a larger population, the calcuation divides by one less than the number of data points in the sample, n-1 [3,4].  It should also be noted that in the STDEV.P calculation the mean $\\mu$ is a mean of the entire population while in the calculation for STDEV.S the mean $\\bar{x}$ is the mean for the sample population. This is important distinction since, as ... [5]explains, \n"
   ]
  },
  {
   "cell_type": "markdown",
   "metadata": {},
   "source": []
  },
  {
   "cell_type": "code",
   "execution_count": null,
   "metadata": {},
   "outputs": [],
   "source": []
  },
  {
   "cell_type": "markdown",
   "metadata": {},
   "source": [
    "### Using numpy to show how STDEV.S is a better estimate for the SD of population when performed on a sample"
   ]
  },
  {
   "cell_type": "markdown",
   "metadata": {},
   "source": [
    "Then use numpy to perform a simulation demonstrating that the STDEV.S calculation is a better estimate for the standard deviation of a population when performed on a sample. "
   ]
  },
  {
   "cell_type": "code",
   "execution_count": 13,
   "metadata": {},
   "outputs": [],
   "source": [
    "import numpy as np\n",
    "%matplotlib inline\n",
    "import matplotlib.pyplot as plt\n",
    "plt.style.use('seaborn-whitegrid')\n",
    "plt.rcParams['figure.figsize'] = (10, 8)\n",
    "import pandas as pd\n",
    "import seaborn as sns"
   ]
  },
  {
   "cell_type": "markdown",
   "metadata": {},
   "source": [
    "### Generate a random populations of integers with a normal distribution \n"
   ]
  },
  {
   "cell_type": "code",
   "execution_count": 14,
   "metadata": {},
   "outputs": [],
   "source": [
    "# # generate a population with a uniform distribution\n",
    "# mean, standard deviation, population size\n",
    "mu, sigma, popsize = 50, 100, 1000  \n",
    "pop = np.random.uniform(mu,sigma,popsize)"
   ]
  },
  {
   "cell_type": "markdown",
   "metadata": {},
   "source": [
    "### View the distribution "
   ]
  },
  {
   "cell_type": "code",
   "execution_count": 15,
   "metadata": {},
   "outputs": [
    {
     "data": {
      "image/png": "[encoded data removed]",
      "text/plain": [
       "<Figure size 720x576 with 1 Axes>"
      ]
     },
     "metadata": {},
     "output_type": "display_data"
    }
   ],
   "source": [
    "\n",
    "# view the population distribution\n",
    "fig = plt.hist(pop, bins=20)\n",
    "# Add a title \n",
    "plt.title(\"Population Distribution\", fontsize = 16)\n",
    "plt.show()\n",
    "  "
   ]
  },
  {
   "cell_type": "code",
   "execution_count": 16,
   "metadata": {},
   "outputs": [
    {
     "data": {
      "image/png": "[encoded data removed]",
      "text/plain": [
       "<Figure size 720x576 with 1 Axes>"
      ]
     },
     "metadata": {},
     "output_type": "display_data"
    }
   ],
   "source": [
    "\n",
    "sns.distplot(pop, hist=False)\n",
    "\n",
    "plt.show()"
   ]
  },
  {
   "cell_type": "code",
   "execution_count": 17,
   "metadata": {},
   "outputs": [
    {
     "name": "stdout",
     "output_type": "stream",
     "text": [
      "For the randomly generated normal distribution of size 1000, the population has a Standard Deviation (SD) of \n",
      "14.58112 and a mean of 74.83719431334204.\n"
     ]
    }
   ],
   "source": [
    "\n",
    "popstd =np.std(pop)\n",
    "popmean = np.mean(pop)\n",
    "print(f\"\"\"For the randomly generated normal distribution of size {len(pop)}, the population has a Standard Deviation (SD) of \n",
    "{popstd:5.5f} and a mean of {popmean}.\"\"\")\n"
   ]
  },
  {
   "cell_type": "markdown",
   "metadata": {},
   "source": [
    "### Generate a list of samplesizes"
   ]
  },
  {
   "cell_type": "code",
   "execution_count": 99,
   "metadata": {},
   "outputs": [
    {
     "data": {
      "text/plain": [
       "[10, 25, 50, 75, 100, 150, 200, 300, 500]"
      ]
     },
     "execution_count": 99,
     "metadata": {},
     "output_type": "execute_result"
    }
   ],
   "source": [
    "# create an array of sample sizes.\n",
    "samplesizes = [10,25,50,75, 100,150,200,300,500]\n",
    "samplesizes"
   ]
  },
  {
   "cell_type": "markdown",
   "metadata": {},
   "source": [
    "### Generate samples from the uniform population."
   ]
  },
  {
   "cell_type": "code",
   "execution_count": 102,
   "metadata": {},
   "outputs": [],
   "source": [
    "# create an empty array to hold sample results.\n",
    "sampleresults = []\n",
    "# //for each samplesize  \n",
    "for s in samplesizes:\n",
    "#     create a sample from the population generated above, with sample size s and replace = False.\n",
    "    sample =  np.random.choice(pop, size=s, replace=False)\n",
    "#     Append the results to the array sampleresults including pop size, samplesize, sample mean, SDEV P, SDEV S.\n",
    "    sampleresults.append([popsize, s, np.mean(sample), \n",
    "                          np.sqrt(np.sum((sample - np.mean(sample))**2)/len(sample)),\n",
    "                          np.sqrt(np.sum((sample - np.mean(sample))**2)/(len(sample)-1))\n",
    "                  ])"
   ]
  },
  {
   "cell_type": "markdown",
   "metadata": {},
   "source": [
    "###  Insert into a dataframe & Calculate STDP % Difference & STDS % Difference"
   ]
  },
  {
   "cell_type": "code",
   "execution_count": 103,
   "metadata": {},
   "outputs": [
    {
     "data": {
      "text/html": [
       "<div>\n",
       "<style scoped>\n",
       "    .dataframe tbody tr th:only-of-type {\n",
       "        vertical-align: middle;\n",
       "    }\n",
       "\n",
       "    .dataframe tbody tr th {\n",
       "        vertical-align: top;\n",
       "    }\n",
       "\n",
       "    .dataframe thead th {\n",
       "        text-align: right;\n",
       "    }\n",
       "</style>\n",
       "<table border=\"1\" class=\"dataframe\">\n",
       "  <thead>\n",
       "    <tr style=\"text-align: right;\">\n",
       "      <th></th>\n",
       "      <th>POP</th>\n",
       "      <th>SAMPLESIZE</th>\n",
       "      <th>SAMPLEMEAN</th>\n",
       "      <th>STDEVP</th>\n",
       "      <th>STDEVS</th>\n",
       "      <th>POPSTD</th>\n",
       "      <th>STDP%DIFF</th>\n",
       "      <th>STDS%DIFF</th>\n",
       "    </tr>\n",
       "  </thead>\n",
       "  <tbody>\n",
       "    <tr>\n",
       "      <th>0</th>\n",
       "      <td>1000</td>\n",
       "      <td>10</td>\n",
       "      <td>88.290406</td>\n",
       "      <td>8.217469</td>\n",
       "      <td>8.661973</td>\n",
       "      <td>14.581121</td>\n",
       "      <td>0.436431</td>\n",
       "      <td>0.405946</td>\n",
       "    </tr>\n",
       "    <tr>\n",
       "      <th>1</th>\n",
       "      <td>1000</td>\n",
       "      <td>25</td>\n",
       "      <td>73.900634</td>\n",
       "      <td>13.022065</td>\n",
       "      <td>13.290589</td>\n",
       "      <td>14.581121</td>\n",
       "      <td>0.106923</td>\n",
       "      <td>0.088507</td>\n",
       "    </tr>\n",
       "    <tr>\n",
       "      <th>2</th>\n",
       "      <td>1000</td>\n",
       "      <td>50</td>\n",
       "      <td>72.495064</td>\n",
       "      <td>15.490467</td>\n",
       "      <td>15.647735</td>\n",
       "      <td>14.581121</td>\n",
       "      <td>0.062365</td>\n",
       "      <td>0.073150</td>\n",
       "    </tr>\n",
       "    <tr>\n",
       "      <th>3</th>\n",
       "      <td>1000</td>\n",
       "      <td>75</td>\n",
       "      <td>75.521474</td>\n",
       "      <td>15.334151</td>\n",
       "      <td>15.437413</td>\n",
       "      <td>14.581121</td>\n",
       "      <td>0.051644</td>\n",
       "      <td>0.058726</td>\n",
       "    </tr>\n",
       "    <tr>\n",
       "      <th>4</th>\n",
       "      <td>1000</td>\n",
       "      <td>100</td>\n",
       "      <td>72.823576</td>\n",
       "      <td>14.306523</td>\n",
       "      <td>14.378597</td>\n",
       "      <td>14.581121</td>\n",
       "      <td>0.018832</td>\n",
       "      <td>0.013889</td>\n",
       "    </tr>\n",
       "    <tr>\n",
       "      <th>5</th>\n",
       "      <td>1000</td>\n",
       "      <td>150</td>\n",
       "      <td>74.913845</td>\n",
       "      <td>14.181586</td>\n",
       "      <td>14.229096</td>\n",
       "      <td>14.581121</td>\n",
       "      <td>0.027401</td>\n",
       "      <td>0.024143</td>\n",
       "    </tr>\n",
       "    <tr>\n",
       "      <th>6</th>\n",
       "      <td>1000</td>\n",
       "      <td>200</td>\n",
       "      <td>76.062484</td>\n",
       "      <td>14.232686</td>\n",
       "      <td>14.268401</td>\n",
       "      <td>14.581121</td>\n",
       "      <td>0.023896</td>\n",
       "      <td>0.021447</td>\n",
       "    </tr>\n",
       "    <tr>\n",
       "      <th>7</th>\n",
       "      <td>1000</td>\n",
       "      <td>300</td>\n",
       "      <td>75.747296</td>\n",
       "      <td>14.715076</td>\n",
       "      <td>14.739663</td>\n",
       "      <td>14.581121</td>\n",
       "      <td>0.009187</td>\n",
       "      <td>0.010873</td>\n",
       "    </tr>\n",
       "    <tr>\n",
       "      <th>8</th>\n",
       "      <td>1000</td>\n",
       "      <td>500</td>\n",
       "      <td>74.605924</td>\n",
       "      <td>14.692727</td>\n",
       "      <td>14.707442</td>\n",
       "      <td>14.581121</td>\n",
       "      <td>0.007654</td>\n",
       "      <td>0.008663</td>\n",
       "    </tr>\n",
       "  </tbody>\n",
       "</table>\n",
       "</div>"
      ],
      "text/plain": [
       "    POP  SAMPLESIZE  SAMPLEMEAN     STDEVP     STDEVS     POPSTD  STDP%DIFF  \\\n",
       "0  1000          10   88.290406   8.217469   8.661973  14.581121   0.436431   \n",
       "1  1000          25   73.900634  13.022065  13.290589  14.581121   0.106923   \n",
       "2  1000          50   72.495064  15.490467  15.647735  14.581121   0.062365   \n",
       "3  1000          75   75.521474  15.334151  15.437413  14.581121   0.051644   \n",
       "4  1000         100   72.823576  14.306523  14.378597  14.581121   0.018832   \n",
       "5  1000         150   74.913845  14.181586  14.229096  14.581121   0.027401   \n",
       "6  1000         200   76.062484  14.232686  14.268401  14.581121   0.023896   \n",
       "7  1000         300   75.747296  14.715076  14.739663  14.581121   0.009187   \n",
       "8  1000         500   74.605924  14.692727  14.707442  14.581121   0.007654   \n",
       "\n",
       "   STDS%DIFF  \n",
       "0   0.405946  \n",
       "1   0.088507  \n",
       "2   0.073150  \n",
       "3   0.058726  \n",
       "4   0.013889  \n",
       "5   0.024143  \n",
       "6   0.021447  \n",
       "7   0.010873  \n",
       "8   0.008663  "
      ]
     },
     "execution_count": 103,
     "metadata": {},
     "output_type": "execute_result"
    }
   ],
   "source": [
    "# data = np.array(list(sampleresults))\n",
    "df = pd.DataFrame(sampleresults, columns=[\"POP\",\"SAMPLESIZE\",\"SAMPLEMEAN\",\"STDEVP\", \"STDEVS\"])\n",
    "df['POPSTD'] = popstd\n",
    "#  adapted from https://stackoverflow.com/a/48867801\n",
    "# calculate % difference between popstd and STD\n",
    "df['STDP%DIFF'] = ((df['STDEVP'] - df['POPSTD']).abs())/df['POPSTD']\n",
    "df['STDS%DIFF'] = ((df['STDEVS'] - df['POPSTD']).abs())/df['POPSTD']\n",
    "# dfsorted = df.sort_values(by=['SAMPLESIZE'])\n",
    "# dfsorted\n",
    "df"
   ]
  },
  {
   "cell_type": "markdown",
   "metadata": {},
   "source": [
    "### Initial Observations "
   ]
  },
  {
   "cell_type": "markdown",
   "metadata": {},
   "source": [
    "With a uniformally randomly generated population pop of size {len(pop)}, the population has a Standard Deviation (SD) of 14.857454. At a quick glance, with very small sample sizes of 10 and 15  the percentage difference between the population standard deviation (POPSTD) and the sample standard deviation using n (STDEV.P)is lower than the percentage difference between the population standard deviation  and the sample standard deviation using n-1 (STDEV.S).  However, for the remaining and increasingly larger sample sizes, the results show very marginal differences between the percentage difference between POPSTD and STDEV.S and the percentage difference between POPSTD and STDEV.P.\n",
    "\n"
   ]
  },
  {
   "cell_type": "markdown",
   "metadata": {},
   "source": [
    "### Visualizing Initial Results"
   ]
  },
  {
   "cell_type": "code",
   "execution_count": 106,
   "metadata": {},
   "outputs": [
    {
     "data": {
      "image/png": "[encoded data removed]",
      "text/plain": [
       "<Figure size 720x576 with 1 Axes>"
      ]
     },
     "metadata": {},
     "output_type": "display_data"
    }
   ],
   "source": [
    "# Ploting  results for standard deviation using STDEV.P & STDEV.P absolute difference between pop STD\n",
    "# samplesize \n",
    "plt.plot(df['SAMPLESIZE'], df['STDP%DIFF'], 'bo', label='STDEVP')  \n",
    "plt.plot(df['SAMPLESIZE'], df['STDS%DIFF'], 'gx', label='STDEVS')  \n",
    "plt.title('Standard deviation ABS% Variation from POPSTD for each Sample Size', fontsize='16')\n",
    "plt.xlabel('Sample Sizes', fontsize='14')\n",
    "plt.ylabel('Absolute % Difference from Population STD', fontsize='14')\n",
    "plt.legend()\n",
    "plt.show()"
   ]
  },
  {
   "cell_type": "markdown",
   "metadata": {},
   "source": [
    "As noted, the results show in general the percentage variation from the population standard deivation (POPSTD) is similar in STDEV.P and STDEV.S but I have two concerns here. The results show that STDEVP is actually closer than STDEVS to POPSTD on many occasions than STDEVS. So firstly the number of times we have tested the data is too limited. Therefore we need to increase the number of samples generated for each samplesize and the number of samplesizses. But before doing so, it would be valuable to address my second concern which is that I am looking at the % absolute difference. Looking at the table of results it does appear that STDEVP tends to be below POPSTD and STDEVS tends to be above for smaller sizes. Therefore before moving on to increasing the nubmer of tests, the POPSTD will be visualised against the STDEVP and STDEVS."
   ]
  },
  {
   "cell_type": "markdown",
   "metadata": {},
   "source": [
    "### Zooming in on Sample Standard Deviations (STDEV.S, STDEV.P) and Compariing against Population STD"
   ]
  },
  {
   "cell_type": "code",
   "execution_count": 110,
   "metadata": {},
   "outputs": [
    {
     "data": {
      "text/plain": [
       "[<matplotlib.axis.YTick at 0x7fd640dbeac0>,\n",
       " <matplotlib.axis.YTick at 0x7fd640dbe6a0>,\n",
       " <matplotlib.axis.YTick at 0x7fd640c61370>,\n",
       " <matplotlib.axis.YTick at 0x7fd640e03e50>,\n",
       " <matplotlib.axis.YTick at 0x7fd640e073a0>,\n",
       " <matplotlib.axis.YTick at 0x7fd640e078b0>,\n",
       " <matplotlib.axis.YTick at 0x7fd640e034f0>,\n",
       " <matplotlib.axis.YTick at 0x7fd640dfa580>]"
      ]
     },
     "execution_count": 110,
     "metadata": {},
     "output_type": "execute_result"
    },
    {
     "data": {
      "image/png": "[encoded data removed]",
      "text/plain": [
       "<Figure size 720x576 with 1 Axes>"
      ]
     },
     "metadata": {},
     "output_type": "display_data"
    }
   ],
   "source": [
    "# Ploting  % diff results for standard deviation using STDEV.P & STDEV.P versus pop STD\n",
    "# Adapted from https://problemsolvingwithpython.com/06-Plotting-with-Matplotlib/06.05-Multi-Line-Plots/\n",
    "# using ax to learn more about it.\n",
    "# samplesize \n",
    "\n",
    "fig, ax = plt.subplots()\n",
    "ax.plot(df['SAMPLESIZE'], df['STDEVP'], 'bo', label='STDEVP')  \n",
    "ax.plot(df['SAMPLESIZE'], df['STDEVS'], 'gx', label='STDEVS')  \n",
    "# https://stackoverflow.com/a/33382750\n",
    "ax.axhline(y= popstd, color='r', linestyle='-', label='POPSTD')\n",
    "ax.set_title('Zooming in on Standard deviations for each Sample size', fontsize = 18)\n",
    "ax.set_xlabel('Sample Sizes', fontsize= '14')\n",
    "ax.set_ylabel('STD deviation', fontsize= '14')\n",
    "ax.legend()\n",
    "ax.axis([0, max(samplesizes)+5, 13.5, 18])\n",
    "ax.xaxis.set_ticks(samplesizes)\n",
    "ax.yaxis.set_ticks(np.arange(14, 18, 0.5))\n",
    "\n"
   ]
  },
  {
   "cell_type": "markdown",
   "metadata": {},
   "source": [
    "Overall, we can see that STDEV.P tends to be smaller than STDEV.S. This is no wonder really as the calculations are identical except in the case of STDEV.P we divide by n whereas in STDEV.S we divide by n-1. Hence STDEV.S is larger. "
   ]
  },
  {
   "cell_type": "markdown",
   "metadata": {},
   "source": [
    "### INCREASE THE NUMBER OF SAMPLESIZES AND NUMBER OF SAMPLES TESTED"
   ]
  },
  {
   "cell_type": "code",
   "execution_count": null,
   "metadata": {},
   "outputs": [],
   "source": [
    "# first increase the number of difference sample sizes used."
   ]
  },
  {
   "cell_type": "code",
   "execution_count": 126,
   "metadata": {},
   "outputs": [
    {
     "data": {
      "text/plain": [
       "[10, 25, 50, 75, 100, 125, 150, 175, 200, 225, 250, 300, 350, 500, 600, 800]"
      ]
     },
     "execution_count": 126,
     "metadata": {},
     "output_type": "execute_result"
    }
   ],
   "source": [
    "\n",
    "# create an array of sample sizes.\n",
    "samplesizes2 = [10,25,50,75, 100, 125,150,175,200,225,250,300,350,500,600,800]\n",
    "samplesizes2\n"
   ]
  },
  {
   "cell_type": "markdown",
   "metadata": {},
   "source": [
    "\n",
    "### Increasing the number of testcases for each samplesize."
   ]
  },
  {
   "cell_type": "markdown",
   "metadata": {},
   "source": [
    "Make life easier and create a function that can be resused (if needs be) to get stdevp, stdevs, mean for a popsize, testing each samplesize 100 times."
   ]
  },
  {
   "cell_type": "code",
   "execution_count": 127,
   "metadata": {},
   "outputs": [],
   "source": [
    "sampleresults2 = []\n",
    "# define a function to get stdevp, stdevs, mean for a popsize, testing each samplesize 100 times.\n",
    "def getstds(pops):\n",
    "     # create an empty array to hold sample results.\n",
    "    # //for each samplesize  \n",
    "    for s in samplesizes2:\n",
    "        # repeat test for each sample 100 times.\n",
    "        for i in range(0,100):\n",
    "    #       create a sample from the population generated above, with sample size s and replace = False.\n",
    "            sample =  np.random.choice(pops, size=s, replace=False)\n",
    "    #       Append the results to the array sampleresults including pop size, samplesize, sample mean, SDEV P, SDEV S.\n",
    "            sampleresults2.append([popsize, s, np.mean(sample), \n",
    "                          np.sqrt(np.sum((sample - np.mean(sample))**2)/len(sample)),\n",
    "                          np.sqrt(np.sum((sample - np.mean(sample))**2)/(len(sample)-1))\n",
    "                  ])\n",
    "    "
   ]
  },
  {
   "cell_type": "code",
   "execution_count": 128,
   "metadata": {},
   "outputs": [],
   "source": [
    "# run the fuction on the populaton created earlier to get results from multiple samples from the same sample sizes\n",
    "getstds(pop)"
   ]
  },
  {
   "cell_type": "markdown",
   "metadata": {},
   "source": [
    "### Insert into a dataframe & Calculate STDP % Difference & STDS % Difference"
   ]
  },
  {
   "cell_type": "code",
   "execution_count": 129,
   "metadata": {},
   "outputs": [],
   "source": [
    "# data = np.array(list(sampleresults))\n",
    "df2 = pd.DataFrame(sampleresults2, columns=[\"POP\",\"SAMPLESIZE\",\"SAMPLEMEAN\",\"STDEVP\", \"STDEVS\"])\n",
    "df2['POPSTD'] = popstd\n",
    "#  adapted from https://stackoverflow.com/a/48867801\n",
    "# calculate % difference between popstd and STD\n",
    "df2['STDP%DIFF'] = ((df2['STDEVP'] - df2['POPSTD']).abs())/df2['POPSTD']\n",
    "df2['STDS%DIFF'] = ((df2['STDEVS'] - df2['POPSTD']).abs())/df2['POPSTD']"
   ]
  },
  {
   "cell_type": "markdown",
   "metadata": {},
   "source": [
    "### Get the means for all of the results for each population-sample size."
   ]
  },
  {
   "cell_type": "code",
   "execution_count": 130,
   "metadata": {},
   "outputs": [
    {
     "data": {
      "text/html": [
       "<div>\n",
       "<style scoped>\n",
       "    .dataframe tbody tr th:only-of-type {\n",
       "        vertical-align: middle;\n",
       "    }\n",
       "\n",
       "    .dataframe tbody tr th {\n",
       "        vertical-align: top;\n",
       "    }\n",
       "\n",
       "    .dataframe thead th {\n",
       "        text-align: right;\n",
       "    }\n",
       "</style>\n",
       "<table border=\"1\" class=\"dataframe\">\n",
       "  <thead>\n",
       "    <tr style=\"text-align: right;\">\n",
       "      <th></th>\n",
       "      <th>POP</th>\n",
       "      <th>SAMPLESIZE</th>\n",
       "      <th>SAMPLEMEAN</th>\n",
       "      <th>STDEVP</th>\n",
       "      <th>STDEVS</th>\n",
       "      <th>POPSTD</th>\n",
       "      <th>STDP%DIFF</th>\n",
       "      <th>STDS%DIFF</th>\n",
       "    </tr>\n",
       "  </thead>\n",
       "  <tbody>\n",
       "    <tr>\n",
       "      <th>0</th>\n",
       "      <td>1000</td>\n",
       "      <td>10</td>\n",
       "      <td>75.324537</td>\n",
       "      <td>13.598970</td>\n",
       "      <td>14.334573</td>\n",
       "      <td>14.581121</td>\n",
       "      <td>0.137096</td>\n",
       "      <td>0.132565</td>\n",
       "    </tr>\n",
       "    <tr>\n",
       "      <th>1</th>\n",
       "      <td>1000</td>\n",
       "      <td>25</td>\n",
       "      <td>74.808160</td>\n",
       "      <td>14.366610</td>\n",
       "      <td>14.662860</td>\n",
       "      <td>14.581121</td>\n",
       "      <td>0.070824</td>\n",
       "      <td>0.070600</td>\n",
       "    </tr>\n",
       "    <tr>\n",
       "      <th>2</th>\n",
       "      <td>1000</td>\n",
       "      <td>50</td>\n",
       "      <td>74.922900</td>\n",
       "      <td>14.412548</td>\n",
       "      <td>14.558872</td>\n",
       "      <td>14.581121</td>\n",
       "      <td>0.056535</td>\n",
       "      <td>0.057187</td>\n",
       "    </tr>\n",
       "    <tr>\n",
       "      <th>3</th>\n",
       "      <td>1000</td>\n",
       "      <td>75</td>\n",
       "      <td>74.735775</td>\n",
       "      <td>14.429104</td>\n",
       "      <td>14.526271</td>\n",
       "      <td>14.581121</td>\n",
       "      <td>0.045130</td>\n",
       "      <td>0.044531</td>\n",
       "    </tr>\n",
       "    <tr>\n",
       "      <th>4</th>\n",
       "      <td>1000</td>\n",
       "      <td>100</td>\n",
       "      <td>74.807820</td>\n",
       "      <td>14.388100</td>\n",
       "      <td>14.460585</td>\n",
       "      <td>14.581121</td>\n",
       "      <td>0.031422</td>\n",
       "      <td>0.030384</td>\n",
       "    </tr>\n",
       "    <tr>\n",
       "      <th>5</th>\n",
       "      <td>1000</td>\n",
       "      <td>125</td>\n",
       "      <td>74.763381</td>\n",
       "      <td>14.581251</td>\n",
       "      <td>14.639929</td>\n",
       "      <td>14.581121</td>\n",
       "      <td>0.029479</td>\n",
       "      <td>0.030118</td>\n",
       "    </tr>\n",
       "    <tr>\n",
       "      <th>6</th>\n",
       "      <td>1000</td>\n",
       "      <td>150</td>\n",
       "      <td>74.811391</td>\n",
       "      <td>14.533884</td>\n",
       "      <td>14.582573</td>\n",
       "      <td>14.581121</td>\n",
       "      <td>0.025153</td>\n",
       "      <td>0.025157</td>\n",
       "    </tr>\n",
       "    <tr>\n",
       "      <th>7</th>\n",
       "      <td>1000</td>\n",
       "      <td>175</td>\n",
       "      <td>74.897448</td>\n",
       "      <td>14.589834</td>\n",
       "      <td>14.631699</td>\n",
       "      <td>14.581121</td>\n",
       "      <td>0.025300</td>\n",
       "      <td>0.025439</td>\n",
       "    </tr>\n",
       "    <tr>\n",
       "      <th>8</th>\n",
       "      <td>1000</td>\n",
       "      <td>200</td>\n",
       "      <td>74.968456</td>\n",
       "      <td>14.611139</td>\n",
       "      <td>14.647804</td>\n",
       "      <td>14.581121</td>\n",
       "      <td>0.022013</td>\n",
       "      <td>0.022425</td>\n",
       "    </tr>\n",
       "    <tr>\n",
       "      <th>9</th>\n",
       "      <td>1000</td>\n",
       "      <td>225</td>\n",
       "      <td>74.609190</td>\n",
       "      <td>14.537553</td>\n",
       "      <td>14.569966</td>\n",
       "      <td>14.581121</td>\n",
       "      <td>0.021323</td>\n",
       "      <td>0.021283</td>\n",
       "    </tr>\n",
       "    <tr>\n",
       "      <th>10</th>\n",
       "      <td>1000</td>\n",
       "      <td>250</td>\n",
       "      <td>74.896977</td>\n",
       "      <td>14.573394</td>\n",
       "      <td>14.602628</td>\n",
       "      <td>14.581121</td>\n",
       "      <td>0.016541</td>\n",
       "      <td>0.016791</td>\n",
       "    </tr>\n",
       "    <tr>\n",
       "      <th>11</th>\n",
       "      <td>1000</td>\n",
       "      <td>300</td>\n",
       "      <td>74.835613</td>\n",
       "      <td>14.601745</td>\n",
       "      <td>14.626143</td>\n",
       "      <td>14.581121</td>\n",
       "      <td>0.018438</td>\n",
       "      <td>0.018589</td>\n",
       "    </tr>\n",
       "    <tr>\n",
       "      <th>12</th>\n",
       "      <td>1000</td>\n",
       "      <td>350</td>\n",
       "      <td>74.891481</td>\n",
       "      <td>14.575241</td>\n",
       "      <td>14.596108</td>\n",
       "      <td>14.581121</td>\n",
       "      <td>0.015649</td>\n",
       "      <td>0.015772</td>\n",
       "    </tr>\n",
       "    <tr>\n",
       "      <th>13</th>\n",
       "      <td>1000</td>\n",
       "      <td>500</td>\n",
       "      <td>74.836857</td>\n",
       "      <td>14.575190</td>\n",
       "      <td>14.589787</td>\n",
       "      <td>14.581121</td>\n",
       "      <td>0.010791</td>\n",
       "      <td>0.010845</td>\n",
       "    </tr>\n",
       "    <tr>\n",
       "      <th>14</th>\n",
       "      <td>1000</td>\n",
       "      <td>600</td>\n",
       "      <td>74.856823</td>\n",
       "      <td>14.592381</td>\n",
       "      <td>14.604556</td>\n",
       "      <td>14.581121</td>\n",
       "      <td>0.009535</td>\n",
       "      <td>0.009596</td>\n",
       "    </tr>\n",
       "    <tr>\n",
       "      <th>15</th>\n",
       "      <td>1000</td>\n",
       "      <td>800</td>\n",
       "      <td>74.822635</td>\n",
       "      <td>14.575582</td>\n",
       "      <td>14.584700</td>\n",
       "      <td>14.581121</td>\n",
       "      <td>0.004474</td>\n",
       "      <td>0.004407</td>\n",
       "    </tr>\n",
       "  </tbody>\n",
       "</table>\n",
       "</div>"
      ],
      "text/plain": [
       "     POP  SAMPLESIZE  SAMPLEMEAN     STDEVP     STDEVS     POPSTD  STDP%DIFF  \\\n",
       "0   1000          10   75.324537  13.598970  14.334573  14.581121   0.137096   \n",
       "1   1000          25   74.808160  14.366610  14.662860  14.581121   0.070824   \n",
       "2   1000          50   74.922900  14.412548  14.558872  14.581121   0.056535   \n",
       "3   1000          75   74.735775  14.429104  14.526271  14.581121   0.045130   \n",
       "4   1000         100   74.807820  14.388100  14.460585  14.581121   0.031422   \n",
       "5   1000         125   74.763381  14.581251  14.639929  14.581121   0.029479   \n",
       "6   1000         150   74.811391  14.533884  14.582573  14.581121   0.025153   \n",
       "7   1000         175   74.897448  14.589834  14.631699  14.581121   0.025300   \n",
       "8   1000         200   74.968456  14.611139  14.647804  14.581121   0.022013   \n",
       "9   1000         225   74.609190  14.537553  14.569966  14.581121   0.021323   \n",
       "10  1000         250   74.896977  14.573394  14.602628  14.581121   0.016541   \n",
       "11  1000         300   74.835613  14.601745  14.626143  14.581121   0.018438   \n",
       "12  1000         350   74.891481  14.575241  14.596108  14.581121   0.015649   \n",
       "13  1000         500   74.836857  14.575190  14.589787  14.581121   0.010791   \n",
       "14  1000         600   74.856823  14.592381  14.604556  14.581121   0.009535   \n",
       "15  1000         800   74.822635  14.575582  14.584700  14.581121   0.004474   \n",
       "\n",
       "    STDS%DIFF  \n",
       "0    0.132565  \n",
       "1    0.070600  \n",
       "2    0.057187  \n",
       "3    0.044531  \n",
       "4    0.030384  \n",
       "5    0.030118  \n",
       "6    0.025157  \n",
       "7    0.025439  \n",
       "8    0.022425  \n",
       "9    0.021283  \n",
       "10   0.016791  \n",
       "11   0.018589  \n",
       "12   0.015772  \n",
       "13   0.010845  \n",
       "14   0.009596  \n",
       "15   0.004407  "
      ]
     },
     "execution_count": 130,
     "metadata": {},
     "output_type": "execute_result"
    }
   ],
   "source": [
    "\n",
    "\n",
    " \n",
    "# print(df[\"STDPDIFF\"].mean())\n",
    "# print(df[\"STDSDIFF\"].mean())\n",
    "# # sns.scatterplot(data=df, x=\"STD\", y=\"MEAN\", hue=\"STDTYPE\")\n",
    "# # plt.plot(popstd,popmean, 'ro')\n",
    "# # df \n",
    "\n",
    "# https://stackoverflow.com/questions/30328646/python-pandas-group-by-in-group-by-and-average\n",
    "df2mean = df2.groupby([\"POP\",'SAMPLESIZE'], as_index= False).mean()\n",
    "df2mean"
   ]
  },
  {
   "cell_type": "markdown",
   "metadata": {},
   "source": [
    "### Visualize the results."
   ]
  },
  {
   "cell_type": "code",
   "execution_count": 140,
   "metadata": {},
   "outputs": [
    {
     "data": {
      "image/png": "[encoded data removed]",
      "text/plain": [
       "<Figure size 720x576 with 1 Axes>"
      ]
     },
     "metadata": {},
     "output_type": "display_data"
    }
   ],
   "source": [
    "# Ploting  results for standard deviation using STDEV.P & STDEV.P absolute difference between pop STD\n",
    "# samplesize \n",
    "plt.plot(df2mean['SAMPLESIZE'], df2mean['STDP%DIFF'], 'bo', label='STDEVP')  \n",
    "plt.plot(df2mean['SAMPLESIZE'], df2mean['STDS%DIFF'], 'gx', label='STDEVS')  \n",
    "plt.title('MEAN Standard deviation ABS% Variation from POPSTD for each Sample Size', fontsize='16')\n",
    "plt.xlabel('Sample Sizes', fontsize='14')\n",
    "plt.ylabel('MEAN Absolute % Difference from Population STD', fontsize='14')\n",
    "plt.legend()\n",
    "plt.show()"
   ]
  },
  {
   "cell_type": "markdown",
   "metadata": {},
   "source": [
    "On average, the % absolute difference between STDEV.S and POPSTD appears somewhat similar to the % absolute difference between STDEV.P and POPSTD to the naked eye. So therefore lets look at the actual average results closer again. Worth noting also, as expected, the averge % absolute difference from the STDEV.P and STDEV.S to the POPSTD gets smaller as the sample size gets closer to the actual population size."
   ]
  },
  {
   "cell_type": "markdown",
   "metadata": {},
   "source": [
    "### Zooming in on Sample Standard Deviations (STDEV.S, STDEV.P) and Compariing against Population STD"
   ]
  },
  {
   "cell_type": "code",
   "execution_count": 141,
   "metadata": {},
   "outputs": [
    {
     "data": {
      "text/plain": [
       "[<matplotlib.axis.YTick at 0x7fd641e22550>,\n",
       " <matplotlib.axis.YTick at 0x7fd641e228e0>,\n",
       " <matplotlib.axis.YTick at 0x7fd641c60970>,\n",
       " <matplotlib.axis.YTick at 0x7fd641f8c7c0>]"
      ]
     },
     "execution_count": 141,
     "metadata": {},
     "output_type": "execute_result"
    },
    {
     "data": {
      "image/png": "[encoded data removed]",
      "text/plain": [
       "<Figure size 720x576 with 1 Axes>"
      ]
     },
     "metadata": {},
     "output_type": "display_data"
    }
   ],
   "source": [
    "# Ploting  % diff results for standard deviation using STDEV.P & STDEV.P versus pop STD\n",
    "# Adapted from https://problemsolvingwithpython.com/06-Plotting-with-Matplotlib/06.05-Multi-Line-Plots/\n",
    "# samplesize \n",
    "fig, ax = plt.subplots()\n",
    "ax.plot(df2mean['SAMPLESIZE'], df2mean['STDEVP'], 'bo', label='STDEVP')  \n",
    "ax.plot(df2mean['SAMPLESIZE'], df2mean['STDEVS'], 'gx', label='STDEVS')  \n",
    "# https://stackoverflow.com/a/33382750\n",
    "ax.axhline(y= popstd, color='r', linestyle='-', label='POPSTD')\n",
    "ax.set_title('Zooming in on AVERAGE Standard deviations for each Sample size', fontsize = 18)\n",
    "ax.set_xlabel('Sample Sizes', fontsize= '14')\n",
    "ax.set_ylabel('AVERAGE STD deviation', fontsize= '14')\n",
    "ax.legend()\n",
    "ax.axis([0, max(samplesizes2)+5, 13.0,16.0])\n",
    "ax.xaxis.set_ticks(samplesizes2)\n",
    "ax.yaxis.set_ticks(np.arange(14, 16, 0.5))"
   ]
  },
  {
   "cell_type": "markdown",
   "metadata": {},
   "source": [
    "### Review Results:"
   ]
  },
  {
   "cell_type": "markdown",
   "metadata": {},
   "source": [
    "On average overall, the results in these sample test case sizes show that STDEV.P tends to yield a smaller standard deviation than STDEV.S. Moreover, the average STDEV.S yielded was nearer to the POPSTD in the majority of sample sizes. Therefore based on the results of this simulation, the  STDEV.S calculation would appear to be a better estimate for the standard deviation of a population when performed on a sample than STDEV.P. \n",
    "\n",
    "Before leaving this task it is worth noting the difference really seems obvious, consistent and more appropriate in the smaller sample sizes (excluding minute 10) ie <=100. Sample size 100 is 10% of the population. As the sample size get closer to the population size the usefulness of applying STDEV.S over STDEV.P seems to negate. Rightfully, when the a sample size is closer to the population size the mean of the sample is obivously more likely to be closer to the mean of the population."
   ]
  },
  {
   "cell_type": "code",
   "execution_count": 151,
   "metadata": {},
   "outputs": [
    {
     "data": {
      "text/plain": [
       "[<matplotlib.axis.YTick at 0x7fd63b56f6d0>,\n",
       " <matplotlib.axis.YTick at 0x7fd63c1a36a0>,\n",
       " <matplotlib.axis.YTick at 0x7fd642cf1be0>,\n",
       " <matplotlib.axis.YTick at 0x7fd6422e25b0>]"
      ]
     },
     "execution_count": 151,
     "metadata": {},
     "output_type": "execute_result"
    },
    {
     "data": {
      "image/png": "[encoded data removed]",
      "text/plain": [
       "<Figure size 720x576 with 1 Axes>"
      ]
     },
     "metadata": {},
     "output_type": "display_data"
    }
   ],
   "source": [
    "# Ploting  % diff results for standard deviation using STDEV.P & STDEV.P versus pop STD\n",
    "# Adapted from https://problemsolvingwithpython.com/06-Plotting-with-Matplotlib/06.05-Multi-Line-Plots/\n",
    "# samplesize \n",
    "fig, ax = plt.subplots()\n",
    "ax.plot(df2mean['SAMPLESIZE'], df2mean['SAMPLEMEAN'], 'o-', label='STDEVP')   \n",
    "# https://stackoverflow.com/a/33382750\n",
    "ax.axhline(y= popmean, color='r', linestyle='-.', label='POPSTD')\n",
    "ax.set_title('Zooming in on AVERAGE Standard deviations for each Sample size', fontsize = 18)\n",
    "ax.set_xlabel('Sample Sizes', fontsize= '14')\n",
    "ax.set_ylabel('AVERAGE STD deviation', fontsize= '14')\n",
    "ax.legend()\n",
    "ax.axis([0, max(samplesizes2), df2mean[\"SAMPLEMEAN\"].min()-0.5, df2mean[\"SAMPLEMEAN\"].max()+0.5])\n",
    "ax.xaxis.set_ticks(samplesizes2)\n",
    "ax.yaxis.set_ticks(np.arange(df2mean[\"SAMPLEMEAN\"].min()-0.5, df2mean[\"SAMPLEMEAN\"].max()+0.5, 0.5))"
   ]
  },
  {
   "cell_type": "code",
   "execution_count": null,
   "metadata": {},
   "outputs": [],
   "source": []
  },
  {
   "cell_type": "code",
   "execution_count": null,
   "metadata": {},
   "outputs": [],
   "source": [
    "plt.plot(dfmean.index, dfmean['STDP%DIFF'], color = 'orange')\n",
    "plt.plot(dfmean.index, dfmean['STDS%DIFF'], color='green')\n",
    "plt.xlabel('SAMPLESIZE')\n",
    "plt.show()\n",
    "print(dfmean['STDP%DIFF'].mean())\n",
    "print(dfmean['STDS%DIFF'].mean())\n"
   ]
  },
  {
   "cell_type": "markdown",
   "metadata": {},
   "source": [
    "\n",
    "\n",
    "### Try varied population sizes."
   ]
  },
  {
   "cell_type": "code",
   "execution_count": null,
   "metadata": {},
   "outputs": [],
   "source": [
    "variedpopsizes = set(range(1000, 10000, 1000))\n",
    "print(variedpopsizes)\n",
    "# s = set(range(50, 500, 25))\n",
    "samplesizeperc = set(range(10, 60, 10)) \n",
    "samplesizeperc\n",
    "\n",
    "for s in variedpopsizes:\n",
    "    print(s)"
   ]
  },
  {
   "cell_type": "code",
   "execution_count": null,
   "metadata": {},
   "outputs": [],
   "source": [
    "\n",
    "    for ssize in samplesizeperc:\n",
    "    # repeat test for each sample 100 times.\n",
    "        for i in range(0,10):\n",
    "            samplesize = (pops//100)*ssize\n",
    "            sample = np.random.choice(samplesize, pops)\n",
    "            mylist.append([pops,ssize, \n",
    "                np.sqrt(np.sum((sample - np.mean(sample))**2)/len(sample)),\n",
    "                np.sqrt(np.sum((sample - np.mean(sample))**2)/(len(sample)-1))\n",
    "                  ])\n",
    "    return mylist"
   ]
  },
  {
   "cell_type": "code",
   "execution_count": null,
   "metadata": {},
   "outputs": [],
   "source": [
    "\n",
    "## References"
   ]
  },
  {
   "cell_type": "markdown",
   "metadata": {},
   "source": [
    "[1] Wikipedia contributors, “Standard deviation” 2020, [Online; accessed 18-November-2020]. Available: https://en.wikipedia.org/wiki/Standard_deviation\n",
    "\n",
    "[2] Khan Academy, \"Calculating standard deviation step by step\", 2020, [Online; accessed 18-November-2020].  Available:https://www.khanacademy.org/math/statistics-probability/summarizing-quantitative-data/variance-standard-deviation-population/a/calculating-standard-deviation-step-by-step\n",
    "\n",
    "[3] Microsoft Support, 'STDEV.P function', undated,[Online; accessed 18-November-2020]. Available: https://support.microsoft.com/en-us/office/stdev-p-function-6e917c05-31a0-496f-ade7-4f4e7462f285  \n",
    "[4] Microsoft Support, 'STDEV.S function', undated,[Online; accessed 18-November-2020]. Available:\n",
    "https://support.microsoft.com/en-us/office/stdev-s-function-7d69cf97-0c1f-4acf-be27-f3e83904cc23"
   ]
  },
  {
   "cell_type": "code",
   "execution_count": null,
   "metadata": {},
   "outputs": [],
   "source": []
  },
  {
   "cell_type": "code",
   "execution_count": null,
   "metadata": {},
   "outputs": [],
   "source": []
  },
  {
   "cell_type": "code",
   "execution_count": null,
   "metadata": {},
   "outputs": [],
   "source": []
  }
 ],
 "metadata": {
  "kernelspec": {
   "display_name": "Python 3",
   "language": "python",
   "name": "python3"
  },
  "language_info": {
   "codemirror_mode": {
    "name": "ipython",
    "version": 3
   },
   "file_extension": ".py",
   "mimetype": "text/x-python",
   "name": "python",
   "nbconvert_exporter": "python",
   "pygments_lexer": "ipython3",
   "version": "3.8.3"
  }
 },
 "nbformat": 4,
 "nbformat_minor": 4
}
