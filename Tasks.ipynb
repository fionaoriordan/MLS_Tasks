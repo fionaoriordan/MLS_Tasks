{
 "cells": [
  {
   "cell_type": "markdown",
   "metadata": {},
   "source": [
    "## Machine Learning and Statistics Module 52954\n",
    "## Tasks\n",
    "### Lecturer: Ian McLaughlin\n",
    "### Student : Fiona O'Riordan\n",
    "***"
   ]
  },
  {
   "cell_type": "markdown",
   "metadata": {},
   "source": [
    "## Task 1\n",
    "***"
   ]
  },
  {
   "cell_type": "markdown",
   "metadata": {},
   "source": [
    "## Objective: \n",
    "\n",
    "October 5th, 2020: Write a Python function called sqrt2 that calculates and prints to the screen the square root of 2 to 100 decimal places. Your code should not depend on any module from the standard library1 or otherwise. You should research the task first and include references and a description of your algorithm."
   ]
  },
  {
   "cell_type": "markdown",
   "metadata": {},
   "source": [
    "## Background"
   ]
  },
  {
   "cell_type": "markdown",
   "metadata": {},
   "source": [
    "### Methods for calculating square roots are approximations.\n",
    "\n",
    "Methods for calculating square roots seek to identify the non negative square root of a number (commonly denoted as √S, 2√S, or S1/2 ) of a real number [1]. Real numbers are any positive or negative number including all integers (whole positive or negative numbers or 0), rational(can be expressed as a fraction) and irrational numbers (can be expressed as an infinite decimal representation e.g. 3.1415926535....).  Real numbers which include decimal points are called floating point numbers, since the decimal \"floats\" between the digits [2].  Irrational numbers with infinite decimal representation are generally estimated by computers [2]. For most numbers their square root is an irrational number [1] Moreover, even in the case of computing the square root of a perfect square integer where a square root with an exact finite represenation exists, only a series of increasingly accurate approximations are returned. [1].\n"
   ]
  },
  {
   "cell_type": "markdown",
   "metadata": {},
   "source": [
    "### Newtons Method.\n",
    "\n",
    "Typically analytical methods to calcuate square roots tend to be iterative and have two steps. Firstly an initial guess $s$ of the square root is provided. This number can be any number as long as it is less that the number $x$ where √X is the number sought. Secondly, each iteration produces a better guess or is closer in refinement to the √X until a required accuracy is met or when a maximum number of iteratiions (predefined) have been reached for slowly converging algorithms. The closer this initial guess is to the √S then the less iterations will performed[1],[4].  \n",
    "\n",
    "Newton's method is one such approach and will be used for this task as it the most widely used approach and the most suitable to computational [1],[4]. Newtowns method can be implemented to calculate the square root $s$ of a number $x$, where $x \\gt 0$ and $s = \\sqrt x $. Starting with an initial guess for the square root, $s_0$, the algorithm calculates a better guess using the formula\n",
    "$$ s_{n+1} = s_n - \\left ( \\frac{s_n^2 - x}{2 s_n} \\right ). $$\n",
    "$s_{n}$ is the previous estimate for the square root and $s_{n+1}$ is the revised/updated appromiation.\n",
    "\n",
    "Therefore, We can calculate the square root of a number using Newton's method [3, 4]. To find the square root $s$ of a number $x$, we can iterate using the following equation.\n",
    "$$ s_{n+1} = s - \\frac{s^2 - x}{2s} $$\n",
    "\n",
    " "
   ]
  },
  {
   "cell_type": "markdown",
   "metadata": {},
   "source": [
    "## Implement the function.\n"
   ]
  },
  {
   "cell_type": "code",
   "execution_count": 1,
   "metadata": {},
   "outputs": [],
   "source": [
    "\"\"\"\n",
    "A function to calculate the square root of a number.\n",
    "\"\"\"\n",
    "def sqrt(x):\n",
    "   \n",
    "    # define precision as number of decimal places to be used.\n",
    "    precision = 10**-10;\n",
    "    # Set the initial guess for the square root of s.\n",
    "    s = x // 2\n",
    "    # iteration number\n",
    "    i = 1\n",
    "    # Loop while the absolute difference between x and (s^2) is greater than the precision /accuracy required.\n",
    "    while abs(x - (s **2)) > precision:\n",
    "        # Calculate the next better guess for the square root.\n",
    "        # first lets calculate the difference between current guess and next guess so that we can view.\n",
    "        diff = (s*s - x) / (2 * s)\n",
    "        s -= diff\n",
    "        print(\"Loop:\",i, \"approximation\",s, \"difference from pervious value\", diff)\n",
    "        i += 1\n",
    "    # Return the square root of x (approximation).\n",
    "    return s\n"
   ]
  },
  {
   "cell_type": "markdown",
   "metadata": {},
   "source": [
    "### Test the function\n"
   ]
  },
  {
   "cell_type": "code",
   "execution_count": 2,
   "metadata": {},
   "outputs": [
    {
     "name": "stdout",
     "output_type": "stream",
     "text": [
      "Loop: 1 approximation 1.5 difference from pervious value -0.5\n",
      "Loop: 2 approximation 1.4166666666666667 difference from pervious value 0.08333333333333333\n",
      "Loop: 3 approximation 1.4142156862745099 difference from pervious value 0.002450980392156932\n",
      "Loop: 4 approximation 1.4142135623746899 difference from pervious value 2.123899819940621e-06\n",
      "Square root of 2:  1.4142135623746899\n",
      "Number of decimal returned using Newton's square number is 17\n"
     ]
    }
   ],
   "source": [
    "myans = sqrt(2)\n",
    "print(\"Square root of 2: \", myans)\n",
    "num1 = sum(c.isdigit() for c in (str(myans)))\n",
    "print(\"Number of decimal returned using Newton's square number is\", sum(c.isdigit() for c in (str(myans))))"
   ]
  },
  {
   "cell_type": "markdown",
   "metadata": {},
   "source": [
    "### Evalute the result"
   ]
  },
  {
   "cell_type": "markdown",
   "metadata": {},
   "source": [
    "The functiona sqrt(2) only returns a value with only 17 significant digits displayed. As the Python documentation [6] explains and as we explored the earlier section above 'Methods for calculating square roots are approximations' computer languages use an approximation of certain numbers. In the case of Python that approximatiion is displayed to 17 significant decimal places [6].\n",
    "\n",
    "According to Python documentation [6], floating point numbers are represented in base 2 (binary) fractions. Therefore for example 0.125 is represented as follows in decimal (base 10): \n",
    "0.125 = 1/10 + 2/100 + 5/1000\n",
    "Similary the binary fraction 0.001 is represented as : \n",
    "0.001 = 0/2 + 0/4 + 1/8.\n",
    "\n",
    "But mostly decimal fractions cannot be exactly expressed as a binary fraction. Therefore decimal floating-point numbers are **approximated** by the binary floating-point numbers actually stored by the computer[6]. \n",
    "\n",
    "Python documentation gives the example of 1/10 and explains how the decimal value 0.1 can never be represented exactly as a base 2 fraction regardless of the base 2 digits you use. The value 1/10 in base 2 is an infinitely repeating fraction: \n",
    "0.0001100110011001100110011001100110011001100110011...\n",
    "\n",
    "While 1/10 will by default be displayed as 0.1, the actual stored value of 1/10 is the nearest representable binary fraction of that fraction.  If we format 0.1 to 100 places we see that number of signficant places calculated to in the approximation is 55."
   ]
  },
  {
   "cell_type": "code",
   "execution_count": 3,
   "metadata": {},
   "outputs": [
    {
     "name": "stdout",
     "output_type": "stream",
     "text": [
      "0.1\n"
     ]
    },
    {
     "data": {
      "text/plain": [
       "55"
      ]
     },
     "execution_count": 3,
     "metadata": {},
     "output_type": "execute_result"
    }
   ],
   "source": [
    "print(0.1) \n",
    "# print 0.1 and format to 100 decimal places\n",
    "len(format((0.1), \".100f\"))\n",
    "mystring = \"1000000000000000055511151231257827021181583404541015625\"\n",
    "len(mystring)"
   ]
  },
  {
   "cell_type": "markdown",
   "metadata": {},
   "source": [
    "Python documentation [6] explains that floats are typically approximated using a binary fraction with the numerator using the first 53 bits starting with the most significant bit and with the denominator as a power of two. The binary fraction is 3602879701896397 / 2 ** 55"
   ]
  },
  {
   "cell_type": "code",
   "execution_count": 4,
   "metadata": {},
   "outputs": [
    {
     "data": {
      "text/plain": [
       "0.1"
      ]
     },
     "execution_count": 4,
     "metadata": {},
     "output_type": "execute_result"
    }
   ],
   "source": [
    "3602879701896397 / 2 ** 55"
   ]
  },
  {
   "cell_type": "markdown",
   "metadata": {},
   "source": [
    "So with this insight in mind, lets try to see if we can view the square root to 2 to 100 places. "
   ]
  },
  {
   "cell_type": "code",
   "execution_count": 5,
   "metadata": {},
   "outputs": [
    {
     "name": "stdout",
     "output_type": "stream",
     "text": [
      "1.4142135623746898698271934335934929549694061279296875000000000000000000000000000000000000000000000000\n"
     ]
    }
   ],
   "source": [
    "# Print the result to 100 signification places.\n",
    "print(format(myans, '.100f'))\n",
    " "
   ]
  },
  {
   "cell_type": "code",
   "execution_count": 6,
   "metadata": {},
   "outputs": [
    {
     "name": "stdout",
     "output_type": "stream",
     "text": [
      "Number of significant digits in my answer: 53\n"
     ]
    }
   ],
   "source": [
    "import re\n",
    "num2 = len(re.sub(\"[^1-9]\", \"\", (format(myans, '.100f'))))\n",
    "#adding back in the one zero I shouldnt have removed but did for convenience.\n",
    "print(\"Number of significant digits in my answer:\", num2+1)"
   ]
  },
  {
   "cell_type": "markdown",
   "metadata": {},
   "source": [
    "We see that 53 significant digits now as expected but this does not solve our question we were asked.\n"
   ]
  },
  {
   "cell_type": "markdown",
   "metadata": {},
   "source": [
    "## Modify the approach."
   ]
  },
  {
   "cell_type": "markdown",
   "metadata": {},
   "source": [
    "\n",
    "However, if we use the python library 'decimal' and use its function 'sqrt' to calculate the square root of 2 with precision set to 100 we can see that python can be used to calculate the square root of 2 to 100 places. Therefore, it is possible to write a Python function called sqrt2 that calculates and prints to the screen the square root of 2 to 100 decimal places. \n"
   ]
  },
  {
   "cell_type": "code",
   "execution_count": 7,
   "metadata": {},
   "outputs": [
    {
     "name": "stdout",
     "output_type": "stream",
     "text": [
      "1.4142135623730950488016887242096980785696718753769480731766797379907324784621070388503875343276415727\n",
      "<class 'decimal.Decimal'>\n",
      "Number of signficant digits is  101\n"
     ]
    }
   ],
   "source": [
    "# https://docs.python.org/2/library/decimal.html [7]\n",
    "from decimal import *\n",
    "# set precision equal to 101 as precision refers to significant number of digits and not decimal places.\n",
    "getcontext().prec = 101 \n",
    "sqrt2byDecimal = Decimal(2).sqrt()\n",
    "print(sqrt2byDecimal)\n",
    "a = sqrt2byDecimal\n",
    "print(type(a))\n",
    "\n",
    "# https://stackoverflow.com/questions/24878174/how-to-count-digits-letters-spaces-for-a-string-in-python [8]\n",
    "import re\n",
    "numofdigits = len(re.sub(\"[^0-9]\", \"\", str(sqrt2byDecimal)))\n",
    "print(\"Number of signficant digits is \", numofdigits)\n"
   ]
  },
  {
   "cell_type": "markdown",
   "metadata": {},
   "source": [
    "So the square root of 2 with 100 decimal places can be achieved using python. Stackoverflow [10] suggests just \"multiply your number by 10**200 and use Newton's method to get the integer square root. Then insert a decimal point in the right place\". In otherwords, this would return a number which is 100 decimal places from the square root of 2 and could be printed using the string format. "
   ]
  },
  {
   "cell_type": "code",
   "execution_count": 17,
   "metadata": {},
   "outputs": [
    {
     "data": {
      "text/plain": [
       "'1.4142135623730950488016887242096980785696718753769480731766797379907324784621070388503875343276415727'"
      ]
     },
     "execution_count": 17,
     "metadata": {},
     "output_type": "execute_result"
    }
   ],
   "source": [
    "\n",
    "\"\"\"\n",
    "A function to calculate the square root of 2.\n",
    "\"\"\"\n",
    "def sqrt2():\n",
    "    x = 2*10**200\n",
    "    # define precision as number of decimal places to be used.\n",
    "    # precision = 10**-10;  No precision now as difference will be zero.\n",
    "    # Set the initial guess for the square root of s.\n",
    "    s = x // 2\n",
    "    # iteration number\n",
    "    i = 1\n",
    "    # Loop while the absolute difference between x and (s^2) is greater than the precision /accuracy required.\n",
    "    while (x - (s **2)) <0:\n",
    "        # Calculate the next better guess for the square root.\n",
    "        # first lets calculate the difference between current guess and next guess so that we can view.\n",
    "\n",
    "#         s = s- (s*s - x) / (2 * s)\n",
    "        #simplify in order to avoid overflow error.       \n",
    "        s = (s+x//s)//2\n",
    "    # Return the square root of 2 * 10**200\n",
    "    s = (str(s))\n",
    "    return(s[0] + \".\" + s[1:])\n",
    "    \n",
    "sqrt2()\n"
   ]
  },
  {
   "cell_type": "markdown",
   "metadata": {},
   "source": [
    "This Python function called sqrt2 calculates and prints to the screen the square root of 2 to 100 decimal places.  Finally I am going to benchmark the result.\n",
    "\n",
    "\n"
   ]
  },
  {
   "cell_type": "markdown",
   "metadata": {},
   "source": [
    "\n",
    "## Benchmark the Result\n"
   ]
  },
  {
   "cell_type": "markdown",
   "metadata": {},
   "source": [
    "Compare to Nassa [9]: "
   ]
  },
  {
   "cell_type": "code",
   "execution_count": 23,
   "metadata": {},
   "outputs": [
    {
     "name": "stdout",
     "output_type": "stream",
     "text": [
      "number of significant digits 101\n"
     ]
    }
   ],
   "source": [
    "# https://apod.nasa.gov/htmltest/gifcity/sqrt2.1mil [10]\n",
    "sqrt2byNasa = \"1.4142135623730950488016887242096980785696718753769480731766797379907324784621070388503875343276415727\"\n",
    "# check I have 100 decimal places places/ 101 significant places.\n",
    "import re\n",
    "# verify 100 decimal places\n",
    "print(\"number of significant digits\",len(str(sqrt2byNasa)[1:]))\n",
    "\n"
   ]
  },
  {
   "cell_type": "code",
   "execution_count": 33,
   "metadata": {},
   "outputs": [
    {
     "name": "stdout",
     "output_type": "stream",
     "text": [
      "Square root of 2 to 100 decimal places is equal to Nasa's number with 100 decimal places displayed.\n"
     ]
    }
   ],
   "source": [
    "taskanswer = sqrt2()\n",
    "if (str(sqrt2byNasa) == taskanswer):\n",
    "    print(\"Square root of 2 to 100 decimal places is equal to Nasa's number with 100 decimal places displayed.\")"
   ]
  },
  {
   "cell_type": "markdown",
   "metadata": {},
   "source": [
    "## Conclusion"
   ]
  },
  {
   "cell_type": "code",
   "execution_count": null,
   "metadata": {},
   "outputs": [],
   "source": [
    "Conclusion here... to do . "
   ]
  },
  {
   "cell_type": "markdown",
   "metadata": {},
   "source": [
    "### References: \n",
    "[1] Methods of computing square roots; Wikipedia;https://en.wikipedia.org/wiki/Methods_of_computing_square_roots  \n",
    "\n",
    "[2] Real Number Definition; Techterms https://techterms.com/definition/realnumber  \n",
    "\n",
    "[3] A Tour of Go; Exercise: Loops and Functions; https://tour.golang.org/flowcontrol/8  \n",
    "\n",
    "[4] Newton's method; https://en.wikipedia.org/wiki/Newton%27s_method  \n",
    "\n",
    "[5] Geeks For Geeks; Find root of a number using Newton’s method; https://www.geeksforgeeks.org/find-root-of-a-number-using-newtons-method/  \n",
    "[6] Python Software Foundation, \"Floating Point Arithmetic: Issues and Limitations\", https://docs.python.org/3/tutorial/floatingpoint.html\n",
    "[7]decimal — Decimal fixed point and floating point arithmetic;Documentation » The Python Standard Library » Numeric and Mathematical Modules; Python.org »https://docs.python.org/3/library/decimal.html   \n",
    "[8] How to count digits, letters, spaces for a string in Python? Óscar López Reply; Stackoverflow; https://stackoverflow.com/a/24878232  \n",
    "[9] https://apod.nasa.gov/htmltest/gifcity/sqrt2.1mil  \n",
    "[10] How to get the square root of a number to 100 decimal places without using any libaries or modules [; Stack Overflow;https://stackoverflow.com/questions/64295245/how-to-get-the-square-root-of-a-number-to-100-decimal-places-without-using-any-l\n",
    "\n"
   ]
  },
  {
   "cell_type": "markdown",
   "metadata": {},
   "source": [
    "---"
   ]
  },
  {
   "cell_type": "markdown",
   "metadata": {},
   "source": [
    "# Task 2"
   ]
  },
  {
   "cell_type": "markdown",
   "metadata": {},
   "source": [
    "## Objective"
   ]
  },
  {
   "cell_type": "markdown",
   "metadata": {},
   "source": [
    "November 2nd, 2020: The Chi-squared test for independence is a statistical hypothesis test like a t-test. It is used to analyse whether two categorical variables are independent. The Wikipedia article gives the table below as an example [4], stating the Chi-squared value based on it is approximately 24.6. Use scipy.stats to verify this value and calculate the associated p value. You should include a short note with references justifying your analysis in a markdown cell.\n",
    "\n",
    "|              | A   | B   | C   | D   | Total |\n",
    "|--------------|-----|-----|-----|-----|-------|\n",
    "| White Collar | 90  | 60  | 104 | 95  | 349   |\n",
    "| Blue Collar  | 30  | 50  | 51  | 20  | 151   |\n",
    "| No Collar    | 30  | 40  | 45  | 35  | 150   |\n",
    "| Total        | 150 | 150 | 200 | 150 | 650   |"
   ]
  },
  {
   "cell_type": "markdown",
   "metadata": {},
   "source": [
    "## Background"
   ]
  },
  {
   "cell_type": "markdown",
   "metadata": {},
   "source": [
    "###  The Chi Squared Test"
   ]
  },
  {
   "cell_type": "markdown",
   "metadata": {},
   "source": [
    "\n",
    "The Chiq Squared test of independence tests for dependence between categorical variables.  The test is an omnibus test and therefore it tests \"whether the explained variance in a set of data is significantly greater than the unexplained variance, overall\".  In other words, the chi squared test test  whether distributions of categorical variables differ from each another.\n",
    "\n",
    "The Chiq Squared test uses a cross tabulated table (as exemplifed in [4].) and analyses the independence between variables rows and columns.  \n",
    "\n",
    "\n",
    "In theory, if the observed and expected were equal then chi-square would be zero but this is unlikeyly to happen in he real world. Determining whether a Chi Squared test statisic is sufficently large enough to state that a significant statistical difference is indicated is not that straightforward[3].\n"
   ]
  },
  {
   "cell_type": "markdown",
   "metadata": {},
   "source": [
    "### Wikipedia example to be calculated "
   ]
  },
  {
   "cell_type": "markdown",
   "metadata": {},
   "source": [
    "Suppose there is a city of 1,000,000 residents with four neighborhoods: A, B, C, and D. A random sample of 650 residents of the city is taken and their occupation is recorded as \"white collar\", \"blue collar\", or \"no collar\". The null hypothesis is that each person's neighborhood of residence is independent of the person's occupational classification [1]. \n",
    "\n",
    "To estimate what proportion of the whole 1,000,000 live in neighborhood A, the sample number of 150 is used and similarly 349/650 is used to estimate the proportion of 1,000,0000 that are white collar workers [1]. \n",
    "\n",
    "As Wikipedia [1] explains, assuming independence under the hypothesis the  number of white-collar workers in neighborhood A to be: \n",
    "\\begin{equation*} \n",
    "150 \\times\\frac{349}{650} \\approx 80.54\n",
    "\\end{equation*}\n",
    "\n",
    "Then in that \"cell\" of the table, we have\n",
    "\n",
    "\\begin{equation*}\n",
    "\\frac{(observed - expected)^2}{expected} =  \n",
    "\\frac{(90 - 80.54)^2}{80.54}\n",
    "\\approx 1.11\n",
    "\\end{equation*}\n",
    "\n",
    "The sum of these quantities over all of the cells is the test statistic:\n",
    "≈ 24.6 [1]\n",
    "Under the null hypothesis, this sum has approximately a chi-squared distribution whose number of degrees of freedom:  \n",
    " =(rows -1) * (colums -1)  \n",
    " = (3-1) * (4-1)  \n",
    " = 2*3  \n",
    " = 6\n",
    " \n",
    "\n",
    "\n",
    " \n"
   ]
  },
  {
   "cell_type": "markdown",
   "metadata": {},
   "source": [
    "#### Null Hypothesis (H0):"
   ]
  },
  {
   "cell_type": "markdown",
   "metadata": {},
   "source": [
    "The null hypothesis is that each person's neighborhood of residence is independent of the person's occupational classification."
   ]
  },
  {
   "cell_type": "markdown",
   "metadata": {},
   "source": [
    "#### Alertnative Hypothesis H1):"
   ]
  },
  {
   "cell_type": "markdown",
   "metadata": {},
   "source": [
    "The alternative hypothese is therefore a that person's neighborhood of residence is dependent on the person's occupational classification."
   ]
  },
  {
   "cell_type": "markdown",
   "metadata": {},
   "source": [
    "## VERIFY USING SCIPY.STATS"
   ]
  },
  {
   "cell_type": "markdown",
   "metadata": {},
   "source": [
    "### Apply scipy.stats import chi2_contingency to the data"
   ]
  },
  {
   "cell_type": "code",
   "execution_count": 1,
   "metadata": {},
   "outputs": [],
   "source": [
    "# create a crosstab with each row of data.\n",
    "crosstab = [[90, 60, 104, 95], [30,  50,  51, 20], [30,40,45,35]]\n"
   ]
  },
  {
   "cell_type": "code",
   "execution_count": 6,
   "metadata": {},
   "outputs": [],
   "source": [
    "# import the package scipy.stats chi2_contingency\n",
    "from scipy.stats import chi2_contingency\n"
   ]
  },
  {
   "cell_type": "code",
   "execution_count": 39,
   "metadata": {},
   "outputs": [],
   "source": [
    "# perform the tests with outputs chisquare, p and dof\n",
    "teststat, p, dof, expected = chi2_contingency(crosstab)"
   ]
  },
  {
   "cell_type": "markdown",
   "metadata": {},
   "source": [
    "### Compare results\n"
   ]
  },
  {
   "cell_type": "markdown",
   "metadata": {},
   "source": [
    "#### Compare 'cell': white-collar workers in neighbourhood A test statistic."
   ]
  },
  {
   "cell_type": "code",
   "execution_count": 32,
   "metadata": {},
   "outputs": [
    {
     "name": "stdout",
     "output_type": "stream",
     "text": [
      "As Wikipedia shows and scipy.stats concurs, assuming independence under the hypothesis the number of expected white-collar workers in neighborhood in the sample should be  : 80.53846153846153 but the observed number is in the sample table is  90\n",
      "As wikipedia shows and as we can deduce from scipy stats expected calculation the test statistic for this cell would be:1.11\n"
     ]
    }
   ],
   "source": [
    "\n",
    "print(\"As Wikipedia shows and scipy.stats concurs, assuming independence under the hypothesis the number of expected white-collar workers in neighborhood in the sample should be  :\", expected[0][0],  \n",
    "     \"but the observed number is in the sample table is \", crosstab[0][0])\n",
    "cell00stat = ((crosstab[0][0]- expected[0][0])**2)/expected[0][0]\n",
    "print('As wikipedia shows and as we can deduce from scipy stats expected calculation the test statistic for this cell would be:%.2f'% (cell00stat))"
   ]
  },
  {
   "cell_type": "markdown",
   "metadata": {},
   "source": [
    "#### Compare Chiq Square (sum of each test stat for each cell) result from Wikipedia with scipy.stats"
   ]
  },
  {
   "cell_type": "code",
   "execution_count": 38,
   "metadata": {},
   "outputs": [
    {
     "name": "stdout",
     "output_type": "stream",
     "text": [
      "Chi Squared Test Statistic from scipy.stats is 24.6 (rounded to one decimal place)\n",
      "which is the same result from Wikipedia\n",
      "The p value = 0.0004098426\n",
      "The degrees of freedom value = 6\n"
     ]
    }
   ],
   "source": [
    "# chiq square test statistic.\n",
    "print(f'Chi Squared Test Statistic from scipy.stats is %.1f (rounded to one decimal place)'%(teststat))\n",
    "print('which is the same result from Wikipedia')\n",
    "# print the p value.\n",
    "print('The p value = %.10f'% (p))\n",
    "# print the Degrees of Freedom\n",
    "print('The degrees of freedom value = %d'% (dof))"
   ]
  },
  {
   "cell_type": "code",
   "execution_count": 40,
   "metadata": {},
   "outputs": [
    {
     "name": "stdout",
     "output_type": "stream",
     "text": [
      "With p value of p=0.0004098426 and alpha set to alpha=0.0500000000\n",
      "Reject the null hypothesis (H0)\n"
     ]
    }
   ],
   "source": [
    "# assume a alpha/critical value\n",
    "alpha = 0.05\n",
    "print('With p value of p=%.10f and alpha set to alpha=%.10f'% (p, alpha))\n",
    "if p <= alpha:\n",
    "    print(\"Reject the null hypothesis (H0)\")\n",
    "else:\n",
    "    print('Results Do not reject (H0)')"
   ]
  },
  {
   "cell_type": "markdown",
   "metadata": {},
   "source": [
    "### Evalute the result"
   ]
  },
  {
   "cell_type": "markdown",
   "metadata": {},
   "source": [
    "The p value is 0.0004098425861096696 and is lower than alpha = 0.05 (an alpha value I have assumed to use here). There is a low probability that a persons neighbourhood is independent of the person's occupation. The Chi Squared test statistic is 24.6 approximately, an improbably large statistic according to the chi-squared distribution.   Therefore reject null hypothesis that each person's neighborhood of residence is independent of the person's occupational classification. \n",
    "\n",
    "\n",
    "DOF neeed to include.. "
   ]
  },
  {
   "cell_type": "markdown",
   "metadata": {},
   "source": [
    "### References"
   ]
  },
  {
   "cell_type": "markdown",
   "metadata": {},
   "source": [
    "[1] Wikipedia contributors, “Chi-squared test — Wikipedia, the free encyclopedia,” 2020, [Online; accessed 1-November-2020]. [Online]. Available: https://en.wikipedia.org/w/index.php?title=Chi-squaredtest&oldid=983024096  \n",
    "[2] scipy.stats.chi2_contingency; Scipy Docs https://docs.scipy.org/doc/scipy/reference/generated/scipy.stats.chi2_contingency.html  \n",
    "[3] Chi-Square Statistic: How to Calculate It / Distribution;Statistics How to; https://www.statisticshowto.com/probability-and-statistics/chi-square/\n"
   ]
  },
  {
   "cell_type": "code",
   "execution_count": null,
   "metadata": {},
   "outputs": [],
   "source": []
  }
 ],
 "metadata": {
  "kernelspec": {
   "display_name": "Python 3",
   "language": "python",
   "name": "python3"
  },
  "language_info": {
   "codemirror_mode": {
    "name": "ipython",
    "version": 3
   },
   "file_extension": ".py",
   "mimetype": "text/x-python",
   "name": "python",
   "nbconvert_exporter": "python",
   "pygments_lexer": "ipython3",
   "version": "3.8.3"
  }
 },
 "nbformat": 4,
 "nbformat_minor": 4
}
